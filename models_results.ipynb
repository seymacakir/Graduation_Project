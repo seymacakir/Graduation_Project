{
 "cells": [
  {
   "cell_type": "code",
   "execution_count": null,
   "id": "be0e04a7",
   "metadata": {},
   "outputs": [],
   "source": [
    "import pandas as pd\n",
    "import numpy as np\n",
    "import seaborn as sns\n",
    "import matplotlib.pyplot as plt\n",
    "import re\n",
    "from sklearn.preprocessing import MinMaxScaler\n",
    "from sklearn.cluster import KMeans\n",
    "from sklearn.metrics import silhouette_score\n",
    "from lightgbm import LGBMClassifier\n",
    "from sklearn.model_selection import train_test_split, KFold, GroupKFold, StratifiedKFold, cross_val_score\n",
    "import lightgbm as lgb\n",
    "from sklearn.metrics import accuracy_score, confusion_matrix, recall_score, roc_auc_score, precision_score, f1_score\n",
    "from sklearn.linear_model import LogisticRegression\n",
    "from imblearn.over_sampling import SMOTE\n",
    "from imblearn.under_sampling import RandomUnderSampler\n",
    "from sklearn.pipeline import Pipeline\n",
    "from random import random, seed\n",
    "from sklearn.model_selection import GridSearchCV, RandomizedSearchCV\n",
    "from sklearn.model_selection import StratifiedKFold\n",
    "from rpy2 import robjects\n",
    "\n",
    "sns.set(rc={'figure.figsize':(11.7,8.27)})"
   ]
  },
  {
   "cell_type": "code",
   "execution_count": 6,
   "id": "2e1937d4",
   "metadata": {},
   "outputs": [],
   "source": [
    "data = pd.read_csv(\"/data.csv\")"
   ]
  },
  {
   "cell_type": "code",
   "execution_count": 7,
   "id": "c60ac11c",
   "metadata": {},
   "outputs": [],
   "source": [
    "data_train = data[data[\"basvuru_tarihi\"]<\"2022-02-31\"]\n",
    "data_test = data[data[\"basvuru_tarihi\"]>\"2022-02-31\"]"
   ]
  },
  {
   "cell_type": "code",
   "execution_count": 8,
   "id": "f5a16deb",
   "metadata": {},
   "outputs": [],
   "source": [
    "cols_drop = [\"basvuru_tarihi\",\"vade_tarihi\",\"is_rounded_price\",\"com_nakdirisk_avg\",\n",
    "             \"com_gayrinakdirisk_avg\",\"com_nakdilimit_avg\",\"com_gayrinakdilimit_avg\",\n",
    "             \"com_avg_diff_gayrinakdi_limit_risk\",\"com_max_diff_gayrinakdi_limit_risk\",\"com_avg_diff_nakdi_limit_risk\",\n",
    "             \"com_max_diff_nakdi_limit_risk\",\"com_max_gayrinakdi_limit\",\"com_max_gayrinakdi_risk\",\"com_max_nakdi_limit\",\n",
    "             \"com_max_nakdi_risk\",\"quantile_ind_last_3_months_0_count\",\"quantile_ind_last_3_months_1_count\",\n",
    "             \"quantile_ind_last_3_months_2_count\",\"quantile_ind_last_3_months_3_count\",\"quantile_ind_last_3_months_4_count\",\n",
    "             \"quantile_ind_last_3_months_5_count\",\"quantile_ind_last_3_months_6_count\",\"quantile_ind_02_03_tk_last_6_month_perf_max\",\n",
    "             \"quantile_ind_02_03_tk_last_3_month_perf_max\",\"quantile_ind_23_26_last_6_month_perf_max\",\"quantile_ind_23_26_last_3_month_perf_max\",\n",
    "             \"yearly_rate\",\"individual_id\",\"ihtiyac_rate\",\"vade_ay\",\"vade_sonu_ref\",\"vade_sonu\"]\n",
    "\n",
    "data_train = data_train.drop(cols_drop,axis=1)\n",
    "data_test = data_test.drop(cols_drop,axis=1)"
   ]
  },
  {
   "cell_type": "code",
   "execution_count": 9,
   "id": "7c428daf",
   "metadata": {
    "scrolled": true
   },
   "outputs": [],
   "source": [
    "data_train_copy = data_train.copy()\n",
    "data_test_copy = data_test.copy()\n",
    "#data_train.info(verbose=True)"
   ]
  },
  {
   "cell_type": "raw",
   "id": "760eb44e",
   "metadata": {},
   "source": [
    "data_train.to_csv(\"data_train_forR.csv\")\n",
    "data_test.to_csv(\"data_test_forR.csv\")"
   ]
  },
  {
   "cell_type": "code",
   "execution_count": null,
   "id": "d2569c23",
   "metadata": {},
   "outputs": [],
   "source": [
    "def predict_with_cluster(kmeans_model,res_df,data,cols):\n",
    "    data =  data.copy()\n",
    "    scaler = MinMaxScaler()\n",
    "    data_clust = scaler.fit_transform(data[cols])\n",
    "    test_labels = kmeans_model.predict(data_clust)\n",
    "    data[\"test_labels\"] = test_labels\n",
    "    data[\"preds\"] = 0\n",
    "    for c in res_df[\"label\"].values:\n",
    "        X = data[data[\"test_labels\"]==c][\"yearly_rate_ref\"]\n",
    "        if len(X) == 0:\n",
    "            continue\n",
    "        model = res_df.loc[res_df[\"label\"]==c,\"model\"].values[0]\n",
    "        pred_data = data[data[\"test_labels\"]==c]\n",
    "        preds = model.predict_proba(X.values.reshape(-1,1))\n",
    "        data.loc[data[\"test_labels\"]==c,\"preds\"] = [x[1] for x in preds]\n",
    "    return data[\"preds\"].values"
   ]
  },
  {
   "cell_type": "markdown",
   "id": "048f9d87",
   "metadata": {},
   "source": [
    "## Non-segmented Logistic Regression"
   ]
  },
  {
   "cell_type": "raw",
   "id": "4f3b91bf",
   "metadata": {},
   "source": [
    "X = data_train.drop([\"event_id\",\"completed\"],axis=1)\n",
    "y = data_train[\"completed\"]\n",
    "skf = StratifiedKFold(n_splits=5)\n",
    "log_reg = LogisticRegression()\n",
    "grid =  {'penalty' : [\"none\", \"l1\", \"l2\"],\n",
    "         'C' : [0.001, 0.1, 10, 50],\n",
    "         'solver' : ['newton-cg', 'lbfgs', 'liblinear']}\n",
    "random_cv = RandomizedSearchCV(log_reg,grid,scoring=\"roc_auc\",cv=skf,n_iter=10)\n",
    "random_cv.fit(X,y)"
   ]
  },
  {
   "cell_type": "code",
   "execution_count": null,
   "id": "8cb3cbbf",
   "metadata": {
    "scrolled": true
   },
   "outputs": [],
   "source": [
    "X = data_train_copy.drop([\"event_id\",\"completed\"],axis=1)\n",
    "y = data_train[\"completed\"]\n",
    "skf = StratifiedKFold(n_splits=5)\n",
    "log_reg = LogisticRegression(C=0.1,solver=\"liblinear\")\n",
    "cv = cross_val_score(log_reg,X,y,scoring=\"roc_auc\",cv=skf)\n",
    "log_reg.fit(X,y)\n",
    "cv.mean()"
   ]
  },
  {
   "cell_type": "code",
   "execution_count": null,
   "id": "0f3344bb",
   "metadata": {},
   "outputs": [],
   "source": [
    "customer = data_test.iloc[0:1,].drop([\"event_id\",\"completed\"],axis=1)\n",
    "log_reg.predict_proba(customer)"
   ]
  },
  {
   "cell_type": "code",
   "execution_count": null,
   "id": "d6058b25",
   "metadata": {},
   "outputs": [],
   "source": [
    "give_price_reg(log_reg,0.81533405,customer)"
   ]
  },
  {
   "cell_type": "code",
   "execution_count": null,
   "id": "ab29fd45",
   "metadata": {},
   "outputs": [],
   "source": [
    "customer[\"yearly_rate_ref\"]"
   ]
  },
  {
   "cell_type": "code",
   "execution_count": null,
   "id": "6a6eaf7a",
   "metadata": {},
   "outputs": [],
   "source": [
    "data_train[\"yearly_rate_ref\"].max()"
   ]
  },
  {
   "cell_type": "markdown",
   "id": "4f5f23ff",
   "metadata": {},
   "source": [
    "## LGB Loop"
   ]
  },
  {
   "cell_type": "code",
   "execution_count": 15,
   "id": "26f68595",
   "metadata": {},
   "outputs": [],
   "source": [
    "def train_loop(df, holdout, num_folds, useful_features, target, params, num_boost_round, verbose_eval, early_stopping_rounds, feval, sample_ratio):\n",
    "    kfold = StratifiedKFold(n_splits = num_folds, shuffle=True, random_state = 2019)\n",
    "    oof_predictions = np.zeros((df.shape[0]))\n",
    "    holdout_predictions = []\n",
    "    feature_importance = pd.DataFrame()\n",
    "    clfs = []\n",
    "    fold = 0\n",
    "    print(useful_features)\n",
    "    for train_index, valid_index in kfold.split(df[useful_features], df[target]):\n",
    "        print(\"### Fold\", fold+1, \"###\")\n",
    "        if sample_ratio is not None:\n",
    "            x_train = df.iloc[train_index].copy()\n",
    "            sample_size = int(x_train[target].sum()*sample_ratio)\n",
    "            x_train = pd.concat([x_train[x_train[target]==0].sample(sample_size),x_train[x_train[target]==1]], axis=0).reset_index(drop=True)\n",
    "            y_train = x_train[target]\n",
    "            x_train = x_train[useful_features]\n",
    "        else:\n",
    "            x_train = df[useful_features].iloc[train_index].copy()\n",
    "            y_train = df[target].iloc[train_index]\n",
    "            \n",
    "        x_valid = df[useful_features].iloc[valid_index].copy()\n",
    "        y_valid = df[target].iloc[valid_index]\n",
    "        \n",
    "        print(\"Train shape:\",x_train.shape, \"Target average:\", y_train.mean(),\"\\n\",\n",
    "              \"Valid shape:\",x_valid.shape, \"Target average:\", y_valid.mean(),\"\\n\")\n",
    "        \n",
    "        tr_data = lgb.Dataset(x_train, label=y_train)\n",
    "        vl_data = lgb.Dataset(x_valid, label=y_valid)  \n",
    "        if holdout is not None:\n",
    "            holdout_data = lgb.Dataset(holdout[useful_features], label=holdout[target])  \n",
    "            estimator = lgb.train(params,tr_data,valid_sets = [vl_data, holdout_data],num_boost_round=num_boost_round, \n",
    "                                  verbose_eval = verbose_eval, early_stopping_rounds=early_stopping_rounds, feval=feval) \n",
    "\n",
    "        else:\n",
    "            estimator = lgb.train(params,tr_data,valid_sets = [vl_data],num_boost_round=num_boost_round, # tr_data, \n",
    "                                  verbose_eval = verbose_eval, early_stopping_rounds=early_stopping_rounds, feval=feval) \n",
    "\n",
    "        clfs.append(estimator)\n",
    "        oof_pred = estimator.predict(x_valid)\n",
    "        oof_predictions[valid_index] = oof_pred\n",
    "        \n",
    "        if holdout is not None:\n",
    "            holdout_predictions.append(estimator.predict(holdout[useful_features]))\n",
    "                  \n",
    "        if params['metric'] == 'auc':\n",
    "            oof_score = roc_auc_score(y_valid,oof_pred)\n",
    "            print(f\"Fold {fold+1} AUC Score\", oof_score,\"\\n\")\n",
    "            if holdout is not None:\n",
    "                print(f\"Validation AUC: {roc_auc_score(holdout[target],np.mean(holdout_predictions,axis=0))}\",\"\\n\")\n",
    "            \n",
    "        elif params['metric'] == 'rmse':\n",
    "            oof_score = mean_squared_error(y_valid,oof_pred)**0.5\n",
    "            print(f\"Fold {fold+1} RMSE Score\", oof_score,\"\\n\")\n",
    "            if holdout is not None:\n",
    "                print(f\"Validation RMSE: {mean_squared_error(holdout[target],np.mean(holdout_predictions,axis=0))**0.5}\",\"\\n\")\n",
    "\n",
    "        imp = pd.DataFrame(sorted(zip(estimator.feature_importance(importance_type='gain'),x_train.columns)), columns=[\"importance\",\"feature\"])                \n",
    "        imp[\"fold\"] = fold\n",
    "        feature_importance = pd.concat([feature_importance, imp], axis=0)\n",
    "        # timer.time(f\"fold {fold+1} done\")\n",
    "        fold += 1  \n",
    "\n",
    "    if params['metric'] == 'auc':\n",
    "        oof_score = roc_auc_score(df[target],oof_predictions)\n",
    "        print(f\"Out of Fold AUC Score\", oof_score)\n",
    "\n",
    "    elif params['metric'] == 'rmse':\n",
    "        oof_score = mean_squared_error(df[target],oof_predictions)**0.5\n",
    "        print(f\"Out of Fold RMSE Score\", oof_score)\n",
    "        \n",
    "    return clfs, oof_predictions, feature_importance\n",
    "\n",
    "def lgb_f1_score(y_hat, data):\n",
    "    y_true = data.get_label()\n",
    "    y_hat = np.round(y_hat)\n",
    "    return 'f1', f1_score(y_true, y_hat), True"
   ]
  },
  {
   "cell_type": "code",
   "execution_count": null,
   "id": "5f5112f5",
   "metadata": {
    "scrolled": true
   },
   "outputs": [],
   "source": [
    "lgb_params = {'objective':'binary','boosting_type':'gbdt','metric':'None','nthread':6,'learning_rate':0.005,'tree_learner':'serial',\n",
    "              'num_leaves': 2**7,'min_data_in_leaf': 100,'max_depth':8,'max_bin':255,\n",
    "              'subsample_freq':1,'feature_fraction': 0.75,'subsample':0.75,'verbose':-100,'seed': 492}   \n",
    "\n",
    "models, oof_predictions, feature_importance = train_loop(df=data_train.drop([\"event_id\",\"yearly_rate_ref\"],axis=1), holdout=None, num_folds=3, useful_features=data_train.drop([\"event_id\",\"completed\",\"yearly_rate_ref\"],axis=1).columns, target = 'completed',\n",
    "                                                         params = lgb_params, num_boost_round=2000, verbose_eval=100, early_stopping_rounds=200, \n",
    "                                                         feval=lgb_f1_score,sample_ratio=None)"
   ]
  },
  {
   "cell_type": "code",
   "execution_count": 17,
   "id": "77c36459",
   "metadata": {},
   "outputs": [],
   "source": [
    "feat_imp_loop = feature_importance.groupby(\"feature\")[\"importance\"].mean().reset_index().sort_values(\"importance\",ascending=False).iloc[0:16,0]"
   ]
  },
  {
   "cell_type": "code",
   "execution_count": 18,
   "id": "10e22394",
   "metadata": {},
   "outputs": [],
   "source": [
    "feat_imp_loop.to_csv(\"important_features.csv\")"
   ]
  },
  {
   "cell_type": "code",
   "execution_count": null,
   "id": "ecaadc0c",
   "metadata": {},
   "outputs": [],
   "source": [
    "feature_importance.groupby(\"feature\")[\"importance\"].mean().reset_index().sort_values(\"importance\",ascending=False).iloc[0:16,]"
   ]
  },
  {
   "cell_type": "code",
   "execution_count": null,
   "id": "043bed88",
   "metadata": {},
   "outputs": [],
   "source": [
    "scaler = MinMaxScaler()\n",
    "data_clust = scaler.fit_transform(data_train_copy[feat_imp_loop])\n",
    "wcss = []\n",
    "for i in range(1, 21):\n",
    "    kmeans = KMeans(n_clusters=i, init='k-means++', random_state=0,n_init=50)\n",
    "    kmeans.fit(data_clust)\n",
    "    wcss.append(kmeans.inertia_)\n",
    "plt.plot(range(1, 21), wcss)\n",
    "plt.title('Elbow Method')\n",
    "plt.xlabel('Number of clusters')\n",
    "plt.ylabel('WCSS')\n",
    "plt.show()"
   ]
  },
  {
   "cell_type": "code",
   "execution_count": null,
   "id": "246f3b49",
   "metadata": {
    "scrolled": true
   },
   "outputs": [],
   "source": [
    "scaler = MinMaxScaler()\n",
    "data_clust = scaler.fit_transform(data_train_copy[feat_imp_loop])\n",
    "kmeans_loop = KMeans(n_clusters=5, init='k-means++', random_state=0,n_init=50)\n",
    "kmeans_loop.fit(data_clust)\n",
    "labels_loop = kmeans_loop.predict(data_clust)\n",
    "data_train[\"labels_loop\"] = labels_loop\n",
    "silhouette_score(data_clust,labels_loop)"
   ]
  },
  {
   "cell_type": "code",
   "execution_count": null,
   "id": "e24c8414",
   "metadata": {},
   "outputs": [],
   "source": [
    "res_frame_loop = pd.DataFrame({\"label\":[],\"intercept\":[],\"price_coef\":[],\"model\":[],\"auc\":[],\"accuracy\":[]})\n",
    "for c in data_train[\"labels_loop\"].unique():\n",
    "    X = data_train[data_train[\"labels_loop\"]==c][\"yearly_rate_ref\"]\n",
    "    y = data_train[data_train[\"labels_loop\"]==c][\"completed\"]\n",
    "    log_reg = LogisticRegression(fit_intercept=True)\n",
    "    auc =  np.mean(cross_val_score(log_reg,X.values.reshape(-1,1),y,cv=10,scoring=\"roc_auc\"))\n",
    "    accuracy = np.mean(cross_val_score(log_reg,X.values.reshape(-1,1),y,cv=10,scoring=\"accuracy\"))\n",
    "    log_reg.fit(X.values.reshape(-1,1),y)\n",
    "    res_frame_loop.loc[len(res_frame_loop.index)] = [c,log_reg.intercept_[0],log_reg.coef_[0,0],log_reg,\n",
    "                                                     auc,\n",
    "                                                     accuracy]\n",
    "res_frame_loop"
   ]
  },
  {
   "cell_type": "code",
   "execution_count": null,
   "id": "97c3a664",
   "metadata": {
    "scrolled": true
   },
   "outputs": [],
   "source": [
    "data_train.groupby(['labels_loop',]).agg({\"completed\":\"mean\",\n",
    "                                          \"yearly_rate_ref\":\"mean\",\n",
    "                                          \"event_id\":\"count\"})"
   ]
  },
  {
   "cell_type": "code",
   "execution_count": null,
   "id": "a8704c41",
   "metadata": {
    "scrolled": true
   },
   "outputs": [],
   "source": [
    "roc_auc_score(data_test[\"completed\"],predict_with_cluster(kmeans_loop,res_frame_loop,data_test_copy,feat_imp_loop))"
   ]
  },
  {
   "cell_type": "markdown",
   "id": "0f62008f",
   "metadata": {},
   "source": [
    "## Unsupervised Cluster"
   ]
  },
  {
   "cell_type": "code",
   "execution_count": null,
   "id": "7ffa95ff",
   "metadata": {},
   "outputs": [],
   "source": [
    "scaler = MinMaxScaler()\n",
    "data_clust = scaler.fit_transform(data_train_copy.drop([\"yearly_rate_ref\"],axis=1))\n",
    "wcss = []\n",
    "for i in range(1, 21):\n",
    "    kmeans = KMeans(n_clusters=i, init='k-means++', random_state=0)\n",
    "    kmeans.fit(data_clust)\n",
    "    wcss.append(kmeans.inertia_)\n",
    "plt.plot(range(1, 21), wcss)\n",
    "plt.title('Elbow Method')\n",
    "plt.xlabel('Number of clusters')\n",
    "plt.ylabel('WCSS')\n",
    "plt.show()"
   ]
  },
  {
   "cell_type": "code",
   "execution_count": null,
   "id": "38eaa861",
   "metadata": {},
   "outputs": [],
   "source": [
    "scaler = MinMaxScaler()\n",
    "data_clust = scaler.fit_transform(data_train_copy.drop([\"completed\",\"yearly_rate_ref\"],axis=1))\n",
    "kmeans_unsp = KMeans(n_clusters=6, init='k-means++', random_state=0,n_init=50)\n",
    "kmeans_unsp.fit(data_clust)\n",
    "labels_unsp = kmeans_unsp.predict(data_clust)\n",
    "data_train[\"labels_unsp\"] = labels_unsp\n",
    "silhouette_score(data_clust,labels_unsp)"
   ]
  },
  {
   "cell_type": "code",
   "execution_count": null,
   "id": "ef24660c",
   "metadata": {
    "scrolled": true
   },
   "outputs": [],
   "source": [
    "res_frame_unsp = pd.DataFrame({\"label\":[],\"intercept\":[],\"price_coef\":[],\"model\":[],\"auc\":[],\"accuracy\":[]})\n",
    "for c in data_train[\"labels_unsp\"].unique():\n",
    "    X = data_train[data_train[\"labels_unsp\"]==c][\"yearly_rate_ref\"]\n",
    "    y = data_train[data_train[\"labels_unsp\"]==c][\"completed\"]\n",
    "    log_reg = LogisticRegression(fit_intercept=True,penalty=\"none\")\n",
    "    log_reg.fit(X.values.reshape(-1,1),y)\n",
    "    res_frame_unsp.loc[len(res_frame_unsp.index)] = [c,log_reg.intercept_[0],log_reg.coef_[0,0],log_reg,\n",
    "                                                     np.mean(cross_val_score(log_reg,X.values.reshape(-1,1),y,cv=10,scoring=\"roc_auc\")),\n",
    "                                                     np.mean(cross_val_score(log_reg,X.values.reshape(-1,1),y,cv=10,scoring=\"accuracy\"))]\n",
    "res_frame_unsp"
   ]
  },
  {
   "cell_type": "code",
   "execution_count": null,
   "id": "8a9a6b21",
   "metadata": {
    "scrolled": true
   },
   "outputs": [],
   "source": [
    "data_train.groupby(['labels_unsp',]).agg({\"completed\":\"mean\",\n",
    "                                          \"yearly_rate_ref\":\"mean\",\n",
    "                                          \"event_id\":\"count\"})"
   ]
  },
  {
   "cell_type": "code",
   "execution_count": null,
   "id": "00e437b5",
   "metadata": {},
   "outputs": [],
   "source": [
    "cols_unsp = data_train_copy.drop([\"completed\",\"yearly_rate_ref\"],axis=1).columns.values\n",
    "roc_auc_score(data_test[\"completed\"],predict_with_cluster(kmeans_unsp,res_frame_unsp,data_test_copy,cols_unsp))"
   ]
  },
  {
   "cell_type": "markdown",
   "id": "da62b936",
   "metadata": {},
   "source": [
    "## MOB Features Clusters"
   ]
  },
  {
   "cell_type": "code",
   "execution_count": 29,
   "id": "9dc97c75",
   "metadata": {},
   "outputs": [],
   "source": [
    "mob_cols = list(pd.read_csv(\"features.csv\").columns)"
   ]
  },
  {
   "cell_type": "code",
   "execution_count": null,
   "id": "02f22771",
   "metadata": {},
   "outputs": [],
   "source": [
    "scaler = MinMaxScaler()\n",
    "data_clust = scaler.fit_transform(data_train_copy[mob_cols])\n",
    "wcss = []\n",
    "for i in range(1, 21):\n",
    "    kmeans = KMeans(n_clusters=i, init='k-means++', random_state=0,n_init=50)\n",
    "    kmeans.fit(data_clust)\n",
    "    wcss.append(kmeans.inertia_)\n",
    "plt.plot(range(1, 21), wcss)\n",
    "plt.title('Elbow Method')\n",
    "plt.xlabel('Number of clusters')\n",
    "plt.ylabel('WCSS')\n",
    "plt.show()"
   ]
  },
  {
   "cell_type": "code",
   "execution_count": null,
   "id": "bd5d10e1",
   "metadata": {},
   "outputs": [],
   "source": [
    "scaler = MinMaxScaler()\n",
    "data_clust = scaler.fit_transform(data_train_copy[mob_cols])\n",
    "kmeans_mob = KMeans(n_clusters=6, init='k-means++', random_state=0,n_init=50)\n",
    "kmeans_mob.fit(data_clust)\n",
    "labels_mob_cluster = kmeans_mob.predict(data_clust)\n",
    "data_train[\"labels_mob_cluster\"] = labels_mob_cluster\n",
    "silhouette_score(data_clust,labels_mob_cluster)"
   ]
  },
  {
   "cell_type": "code",
   "execution_count": null,
   "id": "9651860b",
   "metadata": {},
   "outputs": [],
   "source": [
    "res_frame_mob_cluster = pd.DataFrame({\"label\":[],\"intercept\":[],\"price_coef\":[],\"model\":[],\"auc\":[],\"accuracy\":[]})\n",
    "for c in data_train[\"labels_mob_cluster\"].unique():\n",
    "    X = data_train[data_train[\"labels_mob_cluster\"]==c][\"yearly_rate_ref\"]\n",
    "    y = data_train[data_train[\"labels_mob_cluster\"]==c][\"completed\"]\n",
    "    log_reg = LogisticRegression(fit_intercept=True)\n",
    "    log_reg.fit(X.values.reshape(-1,1),y)\n",
    "    res_frame_mob_cluster.loc[len(res_frame_mob_cluster.index)] = [c,log_reg.intercept_[0],log_reg.coef_[0,0],log_reg,\n",
    "                                                     np.mean(cross_val_score(log_reg,X.values.reshape(-1,1),y,cv=10,scoring=\"roc_auc\")),\n",
    "                                                     np.mean(cross_val_score(log_reg,X.values.reshape(-1,1),y,cv=10,scoring=\"accuracy\"))]\n",
    "res_frame_mob_cluster"
   ]
  },
  {
   "cell_type": "code",
   "execution_count": null,
   "id": "8518ea04",
   "metadata": {},
   "outputs": [],
   "source": [
    "data_train.groupby(['labels_mob_cluster',]).agg({\"completed\":\"mean\",\n",
    "                                          \"yearly_rate_ref\":\"mean\",\n",
    "                                          \"event_id\":\"count\"})"
   ]
  },
  {
   "cell_type": "code",
   "execution_count": null,
   "id": "be0129f2",
   "metadata": {},
   "outputs": [],
   "source": [
    "roc_auc_score(data_test[\"completed\"],predict_with_cluster(kmeans_mob,res_frame_loop,data_test_copy,mob_cols))"
   ]
  },
  {
   "cell_type": "markdown",
   "id": "bce21797",
   "metadata": {},
   "source": [
    "# New Simulations"
   ]
  },
  {
   "cell_type": "markdown",
   "id": "c302e113",
   "metadata": {},
   "source": [
    "### MODEL BASED TREE"
   ]
  },
  {
   "cell_type": "code",
   "execution_count": 116,
   "id": "d9340f84",
   "metadata": {},
   "outputs": [],
   "source": [
    "def give_nodes_MOB(customers_all,train_data):\n",
    "    train_data.to_csv(\"train_data_tmp.csv\")\n",
    "    customers_all.to_csv(\"customers_all.csv\")\n",
    "    nodes = robjects.r('''\n",
    "    library(data.table)\n",
    "    library(partykit)\n",
    "    data_train = fread(\"train_data_tmp.csv\",encoding='UTF-8')\n",
    "    data_train = data_train[,-c(\"V1\")]\n",
    "    model = glmtree(completed ~ yearly_rate_ref | .-yearly_rate_ref, \n",
    "                    data = data_train,family=binomial(link='logit'),\n",
    "                    minsize = 500, maxdepth = 8)\n",
    "    result_coefs = coef(model)\n",
    "    colnames(result_coefs) = c(\"intercept\",\"price_coef\")\n",
    "    nodes = as.numeric(rownames(result_coefs))\n",
    "    result_coefs = data.table(result_coefs)\n",
    "    result_coefs$node = nodes\n",
    "    fwrite(result_coefs,file=\"result_coefs.csv\")\n",
    "    \n",
    "    customers_all = fread(\"customers_all.csv\")\n",
    "    customers_all = customers_all[,-c(\"V1\")]\n",
    "    customer_nodes = predict(model,customers_all,type=\"node\")\n",
    "    node_table = data.table(\"nodes\"=customer_nodes)\n",
    "    fwrite(node_table,file=\"node_table.csv\")\n",
    "    \n",
    "    customer_probs = predict(model,customers_all,type=\"response\")\n",
    "    prob_table = data.table(\"probs\"=customer_probs)\n",
    "    fwrite(prob_table,file=\"prob_table.csv\")\n",
    "    \n",
    "    customers02 = copy(customers_all)\n",
    "    customers02$yearly_rate_ref = -0.2\n",
    "    customer_probs02 = predict(model,customers02,type=\"response\")\n",
    "    prob_table02 = data.table(\"probs\"=customer_probs02)\n",
    "    fwrite(prob_table02,file=\"prob_table02.csv\")\n",
    "    ''')\n",
    "    \n",
    "    result_coefs = pd.read_csv(\"result_coefs.csv\")\n",
    "    node_table = pd.read_csv(\"node_table.csv\")\n",
    "    prob_table = pd.read_csv(\"prob_table.csv\")\n",
    "    prob_table02 = pd.read_csv(\"prob_table02.csv\")\n",
    "    res = [node_table,result_coefs,prob_table,prob_table02]\n",
    "    return res"
   ]
  },
  {
   "cell_type": "code",
   "execution_count": 82,
   "id": "41f10b46",
   "metadata": {},
   "outputs": [],
   "source": [
    "def give_price_mbt(result_coefs,prob,node):\n",
    "    intercept = result_coefs.loc[result_coefs[\"node\"]==node,\"intercept\"].values[0]\n",
    "    price_coef = result_coefs.loc[result_coefs[\"node\"]==node,\"price_coef\"].values[0]\n",
    "    price = (np.log(prob/(1-prob))-intercept)/price_coef\n",
    "    if price_coef > 0:\n",
    "        price = \"tarfin\"\n",
    "    return price"
   ]
  },
  {
   "cell_type": "code",
   "execution_count": 166,
   "id": "c3151cce",
   "metadata": {},
   "outputs": [],
   "source": [
    "numb_of_rep = 5\n",
    "target_percent = 1 # (100%)"
   ]
  },
  {
   "cell_type": "code",
   "execution_count": 167,
   "id": "8e8afb86",
   "metadata": {},
   "outputs": [],
   "source": [
    "min_scale = 1\n",
    "max_scale = data_test['farmer_paid_amount'].max() - data_test['farmer_paid_amount'].min() + 1\n",
    "\n",
    "scale = MinMaxScaler([min_scale,max_scale])\n",
    "data_test[\"paid_amount\"] = scale.fit_transform(data_test[[\"farmer_paid_amount\"]])\n",
    "target = sum(data_test.loc[data_test['completed']== 1, 'paid_amount'])*target_percent\n",
    "n_d = len(data_test)\n",
    "lambda_d = sum(data_test['paid_amount'])/n_d"
   ]
  },
  {
   "cell_type": "code",
   "execution_count": 168,
   "id": "b6f35727",
   "metadata": {},
   "outputs": [],
   "source": [
    "parameters_from_R = give_nodes_MOB(data_test.drop(\"event_id\", axis=1), data_train.drop(\"event_id\", axis=1))\n",
    "node_table = parameters_from_R[0]\n",
    "coef_table = parameters_from_R[1]\n",
    "prob_table = parameters_from_R[2]\n",
    "prob_table02 = parameters_from_R[3]"
   ]
  },
  {
   "cell_type": "code",
   "execution_count": 169,
   "id": "3550839f",
   "metadata": {},
   "outputs": [],
   "source": [
    "results_mbt_simulation = pd.DataFrame({\"replication\" : [],\n",
    "                        \"iteration\" : [],\n",
    "                        \"event_id\" : [],\n",
    "                        \"paid_amount\" : [],\n",
    "                        \"prob\" : [],\n",
    "                        \"offered_rate_ref\" : [],\n",
    "                        \"offered_rate\" : [],\n",
    "                        \"is_accepted\" : [],\n",
    "                        \"cum_collected\" : [],\n",
    "                        \"collected/target\" : [],\n",
    "                        \"per_profit\" : []})"
   ]
  },
  {
   "cell_type": "code",
   "execution_count": null,
   "id": "fde09380",
   "metadata": {},
   "outputs": [],
   "source": [
    "seed(492)\n",
    "for rep in range(numb_of_rep):\n",
    "    collected = 0\n",
    "    flag = 0\n",
    "    for i in range(n_d):\n",
    "        lambda_r = (target-collected)/(n_d-i+1)\n",
    "        prob = lambda_r/lambda_d\n",
    "        profit = 0\n",
    "        if prob > 0.95:\n",
    "            prob = 0.95\n",
    "        elif prob < 0.05:\n",
    "            prob = 0.05\n",
    "        offeredRate = give_price_mbt(coef_table, prob, node_table.iloc[i].values[0])\n",
    "        \n",
    "        if offeredRate == \"tarfin\":\n",
    "            current_event_id = data_test.iloc[i]['event_id']\n",
    "            offeredRate = data[data['event_id'] == current_event_id]['yearly_rate_ref'].values[0]\n",
    "            prob = prob_table.iloc[i].values[0]\n",
    "        \n",
    "        if offeredRate < -0.2:\n",
    "            offeredRate = -0.2\n",
    "            prob = prob_table02.iloc[i].values[0]\n",
    "        \n",
    "        if random() <= prob:\n",
    "            collected = collected + data_test.iloc[i]['paid_amount']   \n",
    "            is_accepted = 1\n",
    "            current_event_id = data_test.iloc[i]['event_id']\n",
    "            ihtiyac_rate = data[data['event_id'] == current_event_id]['ihtiyac_rate'].values[0]\n",
    "            profit = (offeredRate*ihtiyac_rate + ihtiyac_rate)/100*data_test.iloc[i][\"paid_amount\"]\n",
    "        else:\n",
    "            is_accepted = 0\n",
    "            \n",
    "            \n",
    "        tempRow = pd.DataFrame({\"replication\" : [rep+1], \n",
    "                                \"iteration\" : [i],\n",
    "                                \"event_id\" : [data_test.iloc[i]['event_id']],\n",
    "                                \"paid_amount\" : [data_test.iloc[i]['paid_amount']],\n",
    "                                \"prob\" : [prob],\n",
    "                                \"offered_rate_ref\" : [offeredRate],\n",
    "                                \"offered_rate\" : [(offeredRate*ihtiyac_rate + ihtiyac_rate)/100],\n",
    "                                \"is_accepted\" : [is_accepted],\n",
    "                                \"cum_collected\" : [collected],\n",
    "                                \"collected/target\" : [collected/target],\n",
    "                                \"per_profit\" : [profit]})\n",
    "        results_mbt_simulation = results_mbt_simulation.append(tempRow) \n",
    "        if collected >= target:\n",
    "            print(\"early stopping for rep\", rep+1, \"at the customer indice of\", i)\n",
    "            break\n",
    "        if flag == 0:\n",
    "            if collected/target > 0.95:\n",
    "                print(\"95% of the target has been reached for rep\", rep+1, \"at the customer indice of\", i)\n",
    "                flag = 1"
   ]
  },
  {
   "cell_type": "markdown",
   "id": "74fc89c3",
   "metadata": {},
   "source": [
    "### LOGISTIC REGRESSION"
   ]
  },
  {
   "cell_type": "code",
   "execution_count": null,
   "id": "01df9437",
   "metadata": {},
   "outputs": [],
   "source": [
    "X = data_train_copy.drop([\"event_id\",\"completed\"],axis=1)\n",
    "y = data_train[\"completed\"]\n",
    "skf = StratifiedKFold(n_splits=5)\n",
    "log_reg = LogisticRegression(C=0.1,solver=\"liblinear\")\n",
    "cv = cross_val_score(log_reg,X,y,scoring=\"roc_auc\",cv=skf)\n",
    "log_reg.fit(X,y)\n",
    "cv.mean()"
   ]
  },
  {
   "cell_type": "code",
   "execution_count": 171,
   "id": "a151918b",
   "metadata": {},
   "outputs": [],
   "source": [
    "def give_price_reg(log_reg,prob,customer): \n",
    "    price_coef = log_reg.coef_[0][np.where(customer.columns == \"yearly_rate_ref\")][0]\n",
    "    other_coefs = log_reg.coef_[0][np.where(customer.columns != \"yearly_rate_ref\")]\n",
    "    coefs_mult = customer.iloc[0,:].drop([\"yearly_rate_ref\"])*other_coefs\n",
    "    intercept = log_reg.intercept_[0]\n",
    "    b0 = coefs_mult.sum() + intercept\n",
    "    b1 = log_reg.coef_[0,0]\n",
    "    price = (np.log(prob/(1-prob))-b0)/price_coef\n",
    "    return price"
   ]
  },
  {
   "cell_type": "code",
   "execution_count": 172,
   "id": "f0d3de49",
   "metadata": {},
   "outputs": [],
   "source": [
    "results_logreg_simulation = pd.DataFrame({\"replication\" : [],\n",
    "                        \"iteration\" : [],\n",
    "                        \"event_id\" : [],\n",
    "                        \"paid_amount\" : [],\n",
    "                        \"prob\" : [],\n",
    "                        \"offered_rate_ref\" : [],\n",
    "                        \"offered_rate\" : [],\n",
    "                        \"is_accepted\" : [],\n",
    "                        \"cum_collected\" : [],\n",
    "                        \"collected/target\" : [],\n",
    "                        \"per_profit\" : []})"
   ]
  },
  {
   "cell_type": "code",
   "execution_count": null,
   "id": "859152d0",
   "metadata": {},
   "outputs": [],
   "source": [
    "seed(492)\n",
    "for rep in range(numb_of_rep):\n",
    "    collected = 0\n",
    "    flag = 0\n",
    "    for i in range(n_d):\n",
    "        lambda_r = (target-collected)/(n_d-i+1)\n",
    "        prob = lambda_r/lambda_d\n",
    "        profit = 0\n",
    "        if prob > 0.95:\n",
    "            prob = 0.95\n",
    "        elif prob < 0.05:\n",
    "            prob = 0.05\n",
    "        customer_i = data_test.iloc[i:(i+1),].drop([\"event_id\",\"completed\", \"paid_amount\"],axis=1)\n",
    "        offeredRate = give_price_reg(log_reg, prob, customer_i) #burası her model için farklı fonksiyon olacak\n",
    "        \n",
    "        if offeredRate < -0.2:\n",
    "            offeredRate = -0.2\n",
    "            prob = prob_table02.iloc[i].values[0]\n",
    "        \n",
    "        if random() <= prob:\n",
    "            collected = collected + data_test.iloc[i]['paid_amount']   \n",
    "            is_accepted = 1\n",
    "            current_event_id = data_test.iloc[i]['event_id']\n",
    "            ihtiyac_rate = data[data['event_id'] == current_event_id]['ihtiyac_rate'].values[0]\n",
    "            profit = (offeredRate*ihtiyac_rate + ihtiyac_rate)/100*data_test.iloc[i][\"paid_amount\"]\n",
    "        else:\n",
    "            is_accepted = 0\n",
    "            \n",
    "            \n",
    "        tempRow = pd.DataFrame({\"replication\" : [rep+1], \n",
    "                                \"iteration\" : [i],\n",
    "                                \"event_id\" : [data_test.iloc[i]['event_id']],\n",
    "                                \"paid_amount\" : [data_test.iloc[i]['paid_amount']],\n",
    "                                \"prob\" : [prob],\n",
    "                                \"offered_rate_ref\" : [offeredRate],\n",
    "                                \"offered_rate\" : [(offeredRate*ihtiyac_rate + ihtiyac_rate)/100],\n",
    "                                \"is_accepted\" : [is_accepted],\n",
    "                                \"cum_collected\" : [collected],\n",
    "                                \"collected/target\" : [collected/target],\n",
    "                                \"per_profit\" : [profit]})\n",
    "        results_logreg_simulation = results_logreg_simulation.append(tempRow) \n",
    "        if collected >= target:\n",
    "            print(\"early stopping for rep\", rep+1, \"at the customer indice of\", i)\n",
    "            break\n",
    "        if flag == 0:\n",
    "            if collected/target > 0.95:\n",
    "                print(\"95% of the target has been reached for rep\", rep+1, \"at the customer indice of\", i)\n",
    "                flag = 1"
   ]
  },
  {
   "cell_type": "code",
   "execution_count": null,
   "id": "977f524a",
   "metadata": {},
   "outputs": [],
   "source": [
    "sum(data[data[\"event_id\"].isin(data_test[data_test[\"completed\"]==1][\"event_id\"])][\"yearly_rate\"]/100*data_test[data_test[\"completed\"]==1][\"paid_amount\"])"
   ]
  },
  {
   "cell_type": "code",
   "execution_count": null,
   "id": "0a38b526",
   "metadata": {},
   "outputs": [],
   "source": [
    "results_mbt_simulation[results_mbt_simulation[\"replication\"]==1]['per_profit'].sum()"
   ]
  },
  {
   "cell_type": "code",
   "execution_count": null,
   "id": "64a94228",
   "metadata": {},
   "outputs": [],
   "source": [
    "results_logreg_simulation[results_logreg_simulation[\"replication\"]==1]['per_profit'].sum()"
   ]
  },
  {
   "cell_type": "code",
   "execution_count": null,
   "id": "45da721a",
   "metadata": {},
   "outputs": [],
   "source": [
    "results_logreg_simulation.describe()"
   ]
  },
  {
   "cell_type": "code",
   "execution_count": null,
   "id": "c9968c66",
   "metadata": {},
   "outputs": [],
   "source": [
    "print(results_mbt_simulation.groupby('replication').cum_collected.max()/target*100)\n",
    "print(results_mbt_simulation.groupby('replication').is_accepted.mean())\n",
    "print(results_mbt_simulation.groupby('replication').offered_rate_ref.min())\n",
    "print(results_mbt_simulation.groupby('replication').offered_rate.mean())\n",
    "print(results_mbt_simulation.groupby('replication').per_profit.sum())"
   ]
  },
  {
   "cell_type": "code",
   "execution_count": null,
   "id": "c38e1188",
   "metadata": {},
   "outputs": [],
   "source": [
    "print(results_logreg_simulation.groupby('replication').cum_collected.max()/target*100)\n",
    "print(results_logreg_simulation.groupby('replication').is_accepted.mean())\n",
    "print(results_logreg_simulation.groupby('replication').offered_rate_ref.min())\n",
    "print(results_logreg_simulation.groupby('replication').offered_rate.mean())\n",
    "print(results_logreg_simulation.groupby('replication').per_profit.sum())"
   ]
  },
  {
   "cell_type": "code",
   "execution_count": null,
   "id": "6151714a",
   "metadata": {},
   "outputs": [],
   "source": [
    "results_logreg_simulation[results_logreg_simulation[\"iteration\"]==1]"
   ]
  },
  {
   "cell_type": "code",
   "execution_count": null,
   "id": "8557db27",
   "metadata": {},
   "outputs": [],
   "source": [
    "results_mbt_simulation.groupby(by=\"iteration\").mean()"
   ]
  },
  {
   "cell_type": "code",
   "execution_count": null,
   "id": "153dbdae",
   "metadata": {},
   "outputs": [],
   "source": [
    "results_2 = pd.DataFrame({\"replication\" : [], \n",
    "                                \"iteration\" : [],\n",
    "                                \"event_id\" : [],\n",
    "                                \"paid_amount\" : [],\n",
    "                                \"prob\" : [],\n",
    "                                \"offered_rate_ref\" : [],\n",
    "                                \"offered_rate\" : [],\n",
    "                                \"is_accepted\" : [],\n",
    "                                \"cum_collected\" : [],\n",
    "                                \"collected/target\" : [],\n",
    "                                \"per_profit\" : []})\n",
    "for rep in range(numb_of_rep):\n",
    "    collected = 0\n",
    "    flag = 0\n",
    "    for i in range(n_d):\n",
    "        lambda_r = (target-collected)/(n_d-i+1)\n",
    "        prob = lambda_r/lambda_d\n",
    "        profit = 0\n",
    "        if prob > 0.95:\n",
    "            prob = 0.95\n",
    "        elif prob < 0.05:\n",
    "            prob = 0.05\n",
    "        customer_i = data_test.iloc[i:(i+1),].drop([\"event_id\",\"completed\", \"paid_amount\"],axis=1)\n",
    "        #offeredRate = give_price_reg(log_reg, prob, customer_i) #burası her model için farklı fonksiyon olacak\n",
    "        if data_test_copy.iloc[[i]].labels.values[0] == 0:\n",
    "            if model_0.coef_[0][0] > 0:\n",
    "                offeredRate =  data_test_copy.iloc[[i]].yearly_rate_ref.values[0]\n",
    "            else:\n",
    "                offeredRate = give_price_reg(model_0,prob)\n",
    "                if offeredRate < -0.2:\n",
    "                    offeredRate = -0.2\n",
    "                    prob = model_0.predict_proba(np.array(-0.2).reshape(-1,1))[:,1][0]\n",
    "                \n",
    "        if data_test_copy.iloc[[i]].labels.values[0] == 1:\n",
    "            if model_1.coef_[0][0] > 0:\n",
    "                offeredRate =  data_test_copy.iloc[[i]].yearly_rate_ref.values[0]\n",
    "            else: \n",
    "                offeredRate = give_price_reg(model_1,prob)\n",
    "                if offeredRate < -0.2:\n",
    "                    offeredRate = -0.2\n",
    "                    prob = model_1.predict_proba(np.array(-0.2).reshape(-1,1))[:,1][0]\n",
    "        if data_test_copy.iloc[[i]].labels.values[0] == 2:\n",
    "            if model_2.coef_[0][0] > 0:\n",
    "                offeredRate =  data_test_copy.iloc[[i]].yearly_rate_ref.values[0]\n",
    "            else: \n",
    "                offeredRate = give_price_reg(model_2,prob)\n",
    "                if offeredRate < -0.2:\n",
    "                    offeredRate = -0.2\n",
    "                    prob = model_2.predict_proba(np.array(-0.2).reshape(-1,1))[:,1][0]\n",
    "            \n",
    "        if data_test_copy.iloc[[i]].labels.values[0] == 3:\n",
    "            if model_3.coef_[0][0] > 0:\n",
    "                offeredRate =  data_test_copy.iloc[[i]].yearly_rate_ref.values[0]\n",
    "            else: \n",
    "                offeredRate = give_price_reg(model_3,prob)\n",
    "                if offeredRate < -0.2:\n",
    "                    offeredRate = -0.2\n",
    "                    prob = model_3.predict_proba(np.array(-0.2).reshape(-1,1))[:,1][0]\n",
    "        if data_test_copy.iloc[[i]].labels.values[0] == 4:\n",
    "            if model_4.coef_[0][0] > 0:\n",
    "                offeredRate =  data_test_copy.iloc[[i]].yearly_rate_ref.values[0]\n",
    "            else: \n",
    "                offeredRate = give_price_reg(model_4,prob)\n",
    "                if offeredRate < -0.2:\n",
    "                    offeredRate = -0.2\n",
    "                    prob = model_4.predict_proba(np.array(-0.2).reshape(-1,1))[:,1][0]\n",
    "        if data_test_copy.iloc[[i]].labels.values[0] == 5:\n",
    "            if model_4.coef_[0][0] > 0:\n",
    "                offeredRate =  data_test_copy.iloc[[i]].yearly_rate_ref.values[0]\n",
    "            else: \n",
    "                offeredRate = give_price_reg(model_4,prob)\n",
    "                if offeredRate < -0.2:\n",
    "                    offeredRate = -0.2\n",
    "                    prob = model_4.predict_proba(np.array(-0.2).reshape(-1,1))[:,1][0]\n",
    "        if random() <= prob:\n",
    "            collected = collected + data_test.iloc[i]['paid_amount']   \n",
    "            is_accepted = 1\n",
    "            current_event_id = data_test.iloc[i]['event_id']\n",
    "            ihtiyac_rate = data[data['event_id'] == current_event_id]['ihtiyac_rate'].values[0]\n",
    "            profit = (offeredRate*ihtiyac_rate + ihtiyac_rate)/100*data_test.iloc[i][\"paid_amount\"]\n",
    "        else:\n",
    "            is_accepted = 0\n",
    "            \n",
    "            \n",
    "        tempRow = pd.DataFrame({\"replication\" : [rep+1], \n",
    "                                \"iteration\" : [i],\n",
    "                                \"event_id\" : [data_test.iloc[i]['event_id']],\n",
    "                                \"paid_amount\" : [data_test.iloc[i]['paid_amount']],\n",
    "                                \"prob\" : [prob],\n",
    "                                \"offered_rate_ref\" : [offeredRate],\n",
    "                                \"offered_rate\" : [(offeredRate*ihtiyac_rate + ihtiyac_rate)/100],\n",
    "                                \"is_accepted\" : [is_accepted],\n",
    "                                \"cum_collected\" : [collected],\n",
    "                                \"collected/target\" : [collected/target],\n",
    "                                \"per_profit\" : [profit]})\n",
    "        results_2 = results_2.append(tempRow) \n",
    "        if collected >= target:\n",
    "            print(\"early stopping for rep\", rep+1, \"at the customer indice of\", i)\n",
    "            break\n",
    "        if flag == 0:\n",
    "            if collected/target > 0.95:\n",
    "                print(\"95% of the target has been reached for rep\", rep+1, \"at the customer indice of\", i)\n",
    "                flag = 1"
   ]
  },
  {
   "cell_type": "markdown",
   "id": "1af014e2",
   "metadata": {},
   "source": [
    "## Model Validation Logistic Regression"
   ]
  },
  {
   "cell_type": "code",
   "execution_count": 96,
   "id": "754f1b6d",
   "metadata": {},
   "outputs": [],
   "source": [
    "seed(492)\n",
    "results_logreg_validation = pd.DataFrame({\"replication\" : [],\n",
    "                        \"iteration\" : [],\n",
    "                        \"event_id\" : [],\n",
    "                        \"paid_amount\" : [],\n",
    "                        \"prob\":[],\n",
    "                        \"offered_rate\" : [],                    \n",
    "                        \"is_accepted\" : [],\n",
    "                        \"cum_collected\" : [],\n",
    "                       \"cum_profit\":[]})\n",
    "\n",
    "for rep in range(numb_of_rep):\n",
    "    collected = 0\n",
    "    profit = 0\n",
    "    for i in range(n_d):\n",
    "        prob  = log_reg.predict_proba(data_test.iloc[[i]].drop(columns = [\"event_id\",\"completed\",\"paid_amount\"],axis = 1))[:,1][0]\n",
    "        temp_ihtiyac = data[data['event_id'] == data_test.iloc[i]['event_id']].ihtiyac_rate.values[0]\n",
    "        offeredRate = data_test.iloc[[i]].yearly_rate_ref.values[0]\n",
    "        interest = (offeredRate*temp_ihtiyac + temp_ihtiyac)/100\n",
    "        if random() <= prob:\n",
    "            collected = collected + data_test.iloc[i]['paid_amount']\n",
    "            profit = profit + data_test.iloc[i]['paid_amount']*interest\n",
    "            is_accepted = 1\n",
    "        else :\n",
    "            is_accepted = 0\n",
    "            \n",
    "        tempRow = pd.DataFrame({\"replication\" :[rep], \n",
    "                                \"iteration\" : [i],\n",
    "                                \"event_id\" : [data_test.iloc[i]['event_id']],\n",
    "                                \"paid_amount\" : [data_test.iloc[i]['paid_amount']],\n",
    "                                \"prob\" :[prob],\n",
    "                                \"offered_rate\" : [offeredRate],                    \n",
    "                                \"is_accepted\" : [is_accepted],\n",
    "                                \"cum_collected\" : [collected],\n",
    "                               \"cum_profit\":[profit]})\n",
    "        results_logreg_validation = results_logreg_validation.append(tempRow)"
   ]
  },
  {
   "cell_type": "code",
   "execution_count": null,
   "id": "87825062",
   "metadata": {},
   "outputs": [],
   "source": [
    "results_logreg_validation"
   ]
  },
  {
   "cell_type": "code",
   "execution_count": null,
   "id": "50b3e6da",
   "metadata": {},
   "outputs": [],
   "source": [
    "print(results_logreg_validation.groupby('replication').cum_collected.max()/target*100)\n",
    "print(results_logreg_validation.groupby('replication').is_accepted.mean())\n",
    "print(results_logreg_validation['offered_rate'].mean())\n",
    "print(results_logreg_validation.groupby('replication').cum_profit.max())"
   ]
  },
  {
   "cell_type": "markdown",
   "id": "0cb77b9a",
   "metadata": {},
   "source": [
    "## Model Validation Mob"
   ]
  },
  {
   "cell_type": "code",
   "execution_count": 79,
   "id": "15b9442a",
   "metadata": {},
   "outputs": [],
   "source": [
    "seed(492)\n",
    "results_mob_validation = pd.DataFrame({\"replication\" : [],\n",
    "                        \"iteration\" : [],\n",
    "                        \"event_id\" : [],\n",
    "                        \"paid_amount\" : [],\n",
    "                        \"prob\":[],\n",
    "                        \"offered_rate\" : [],                    \n",
    "                        \"is_accepted\" : [],\n",
    "                        \"cum_collected\" : [],\n",
    "                       \"cum_profit\":[]})\n",
    "\n",
    "for rep in range(numb_of_rep):\n",
    "    collected = 0\n",
    "    profit = 0\n",
    "    for i in range(n_d):\n",
    "        prob  = prob_table.iloc[i].values[0]\n",
    "        temp_ihtiyac = data[data['event_id'] == data_test.iloc[i]['event_id']].ihtiyac_rate.values[0]\n",
    "        offeredRate = data_test.iloc[[i]].yearly_rate_ref.values[0]\n",
    "        interest = (offeredRate*temp_ihtiyac + temp_ihtiyac)/100\n",
    "        if random() <= prob:\n",
    "            collected = collected + data_test.iloc[i]['paid_amount']\n",
    "            profit = profit + data_test.iloc[i]['paid_amount']*interest\n",
    "            is_accepted = 1\n",
    "        else :\n",
    "            is_accepted = 0\n",
    "            \n",
    "        tempRow = pd.DataFrame({\"replication\" :[rep], \n",
    "                                \"iteration\" : [i],\n",
    "                                \"event_id\" : [data_test.iloc[i]['event_id']],\n",
    "                                \"paid_amount\" : [data_test.iloc[i]['paid_amount']],\n",
    "                                \"prob\" :[prob],\n",
    "                                \"offered_rate\" : [offeredRate],                    \n",
    "                                \"is_accepted\" : [is_accepted],\n",
    "                                \"cum_collected\" : [collected],\n",
    "                               \"cum_profit\":[profit]})\n",
    "        results_mob_validation = results_mob_validation.append(tempRow)"
   ]
  },
  {
   "cell_type": "code",
   "execution_count": null,
   "id": "f4e3805e",
   "metadata": {},
   "outputs": [],
   "source": [
    "print(results_mob_validation.groupby('replication').cum_collected.max()/target*100)\n",
    "print(results_mob_validation.groupby('replication').is_accepted.mean())\n",
    "print(results_mob_validation['offered_rate'].mean())\n",
    "print(results_mob_validation.groupby('replication').cum_profit.max())"
   ]
  },
  {
   "cell_type": "code",
   "execution_count": null,
   "id": "b3ef8d9e",
   "metadata": {},
   "outputs": [],
   "source": [
    "results_mob_validation"
   ]
  }
 ],
 "metadata": {
  "kernelspec": {
   "display_name": "Python 3 (ipykernel)",
   "language": "python",
   "name": "python3"
  },
  "language_info": {
   "codemirror_mode": {
    "name": "ipython",
    "version": 3
   },
   "file_extension": ".py",
   "mimetype": "text/x-python",
   "name": "python",
   "nbconvert_exporter": "python",
   "pygments_lexer": "ipython3",
   "version": "3.8.3"
  }
 },
 "nbformat": 4,
 "nbformat_minor": 5
}
