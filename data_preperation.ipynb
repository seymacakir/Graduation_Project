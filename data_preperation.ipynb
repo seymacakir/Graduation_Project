{
 "cells": [
  {
   "cell_type": "code",
   "execution_count": 1,
   "id": "f201cc51",
   "metadata": {},
   "outputs": [],
   "source": [
    "import numpy as np\n",
    "import pandas as pd\n",
    "import seaborn as sns\n",
    "import sys\n",
    "import os\n",
    "import matplotlib.pyplot as plt\n",
    "import re\n",
    "\n",
    "# # OPTIONAL SETTINGS\n",
    "# sns.set(rc={'figure.figsize':(10,5)})\n",
    "# pd.set_option('display.max_columns', None)  \n",
    "# pd.set_option('display.expand_frame_repr', False)\n",
    "# pd.set_option('max_colwidth', None)\n",
    "# pd.set_option('display.max_rows', 100)"
   ]
  },
  {
   "cell_type": "code",
   "execution_count": 2,
   "id": "6da74466",
   "metadata": {},
   "outputs": [],
   "source": [
    "# # CHANGING OR ADDING WORKING DIRECTORY (wd)\n",
    "os.chdir('/Users/seyma/Desktop/Data')"
   ]
  },
  {
   "cell_type": "code",
   "execution_count": null,
   "id": "ed7a2bdc",
   "metadata": {},
   "outputs": [],
   "source": [
    "%%time\n",
    "# all data were located in wd as a file named 'Data'\n",
    "rawData = pd.read_excel('raw_data.xlsx')\n",
    "colNames = pd.read_excel('aciklamalar.xlsx')"
   ]
  },
  {
   "cell_type": "code",
   "execution_count": 4,
   "id": "5cb0366a",
   "metadata": {},
   "outputs": [],
   "source": [
    "\n",
    "colNames.columns = ['oldName', 'newName']\n",
    "colNames.set_index('oldName', inplace=True)\n",
    "colNames = colNames.to_dict()['newName']\n",
    "rawData = rawData.rename(columns=colNames)"
   ]
  },
  {
   "cell_type": "code",
   "execution_count": null,
   "id": "fce2b8e5",
   "metadata": {},
   "outputs": [],
   "source": [
    "data = rawData.copy()\n",
    "data.head()"
   ]
  },
  {
   "cell_type": "code",
   "execution_count": null,
   "id": "e691ba9a",
   "metadata": {},
   "outputs": [],
   "source": [
    "data.shape"
   ]
  },
  {
   "cell_type": "markdown",
   "id": "ef0b0a24",
   "metadata": {},
   "source": [
    "# NA Handling"
   ]
  },
  {
   "cell_type": "code",
   "execution_count": 9,
   "id": "43adf321",
   "metadata": {},
   "outputs": [],
   "source": [
    "data.dropna(subset=['gender'], inplace=True)\n",
    "#data['gender'].fillna('Unknown', inplace=True) #alternatif"
   ]
  },
  {
   "cell_type": "code",
   "execution_count": 11,
   "id": "f0c3a760",
   "metadata": {},
   "outputs": [],
   "source": [
    "temp_min_value = data['ind_first_account_creation_date_year_today_diff'].min() \n",
    "data['ind_first_account_creation_date_year_today_diff'].fillna(temp_min_value, inplace=True)"
   ]
  },
  {
   "cell_type": "code",
   "execution_count": 12,
   "id": "47ac8d68",
   "metadata": {},
   "outputs": [],
   "source": [
    "temp_min_value = data['ind_last_account_creation_date_month_today_diff'].min()\n",
    "data['ind_last_account_creation_date_month_today_diff'].fillna(temp_min_value, inplace=True)"
   ]
  },
  {
   "cell_type": "code",
   "execution_count": 14,
   "id": "5c91687d",
   "metadata": {},
   "outputs": [],
   "source": [
    "data['quantile_ind_last_3_months_0_count'] = pd.cut(data['ind_last_3_months_0_count'], 3, labels=False)\n",
    "data['quantile_ind_last_3_months_1_count'] = pd.cut(data['ind_last_3_months_1_count'], 3, labels=False)\n",
    "data['quantile_ind_last_3_months_2_count'] = pd.cut(data['ind_last_3_months_2_count'], 3, labels=False)\n",
    "data['quantile_ind_last_3_months_3_count'] = pd.cut(data['ind_last_3_months_3_count'], 3, labels=False)\n",
    "data['quantile_ind_last_3_months_4_count'] = pd.cut(data['ind_last_3_months_4_count'], 3, labels=False)\n",
    "data['quantile_ind_last_3_months_5_count'] = pd.cut(data['ind_last_3_months_5_count'], 3, labels=False)\n",
    "data['quantile_ind_last_3_months_6_count'] = pd.cut(data['ind_last_3_months_6_count'], 3, labels=False)\n",
    "\n",
    "data['quantile_ind_last_6_months_0_count'] = pd.cut(data['ind_last_6_months_0_count'], 3, labels=False)\n",
    "data['quantile_ind_last_6_months_1_count'] = pd.cut(data['ind_last_6_months_1_count'], 3, labels=False)\n",
    "data['quantile_ind_last_6_months_2_count'] = pd.cut(data['ind_last_6_months_2_count'], 3, labels=False)\n",
    "data['quantile_ind_last_6_months_3_count'] = pd.cut(data['ind_last_6_months_3_count'], 3, labels=False)\n",
    "data['quantile_ind_last_6_months_4_count'] = pd.cut(data['ind_last_6_months_4_count'], 3, labels=False)\n",
    "data['quantile_ind_last_6_months_5_count'] = pd.cut(data['ind_last_6_months_5_count'], 3, labels=False)\n",
    "data['quantile_ind_last_6_months_6_count'] = pd.cut(data['ind_last_6_months_6_count'], 3, labels=False)"
   ]
  },
  {
   "cell_type": "code",
   "execution_count": 15,
   "id": "e3e439e2",
   "metadata": {},
   "outputs": [],
   "source": [
    "data['quantile_ind_last_3_months_0_count'].fillna(3, inplace=True)\n",
    "data['quantile_ind_last_3_months_1_count'].fillna(3, inplace=True)\n",
    "data['quantile_ind_last_3_months_2_count'].fillna(3, inplace=True)\n",
    "data['quantile_ind_last_3_months_3_count'].fillna(3, inplace=True)\n",
    "data['quantile_ind_last_3_months_4_count'].fillna(3, inplace=True)\n",
    "data['quantile_ind_last_3_months_5_count'].fillna(3, inplace=True)\n",
    "data['quantile_ind_last_3_months_6_count'].fillna(3, inplace=True)\n",
    "\n",
    "data['quantile_ind_last_6_months_0_count'].fillna(3, inplace=True)\n",
    "data['quantile_ind_last_6_months_1_count'].fillna(3, inplace=True)\n",
    "data['quantile_ind_last_6_months_2_count'].fillna(3, inplace=True)\n",
    "data['quantile_ind_last_6_months_3_count'].fillna(3, inplace=True)\n",
    "data['quantile_ind_last_6_months_4_count'].fillna(3, inplace=True)\n",
    "data['quantile_ind_last_6_months_5_count'].fillna(3, inplace=True)\n",
    "data['quantile_ind_last_6_months_6_count'].fillna(3, inplace=True)"
   ]
  },
  {
   "cell_type": "code",
   "execution_count": null,
   "id": "23f30b93",
   "metadata": {},
   "outputs": [],
   "source": [
    "data[data['ind_taksit_gecikme_ratio_weighted_02_03_TK'].isna()][['ind_gecikmis_bakiye_limit_ratio_02_03_TK', \n",
    "                                                                 'ind_gecikmis_bakiye_limit_ratio_23_26',\n",
    "                                                                 'ind_gecikmis_bakiye_limit_ratio_closed_02_03_TK',\n",
    "                                                                 'ind_gecikmis_bakiye_limit_ratio_closed_23_26',\n",
    "                                                                 'ind_bk_exclusion_code',\n",
    "                                                                 'ind_limit_bakiye_ratio_weighted_23_26',\n",
    "                                                                 'ind_taksit_gecikme_ratio_weighted_02_03_TK',\n",
    "                                                                 'ind_geciktirilmis_bakiye_23_26',\n",
    "                                                                 'ind_n_accounts', \n",
    "                                                                 'ind_n_banks',\n",
    "                                                                 'ind_is_individual']].describe().round(4)"
   ]
  },
  {
   "cell_type": "code",
   "execution_count": 19,
   "id": "95859142",
   "metadata": {},
   "outputs": [],
   "source": [
    "data['quantile_ind_02_03_TK_last_12_month_perf_max'] = pd.cut(data['ind_02_03_TK_last_12_month_perf_max'], 3, labels=False)\n",
    "data['quantile_ind_02_03_TK_last_6_month_perf_max'] = pd.cut(data['ind_02_03_TK_last_6_month_perf_max'], 3, labels=False)\n",
    "data['quantile_ind_02_03_TK_last_3_month_perf_max'] = pd.cut(data['ind_02_03_TK_last_3_month_perf_max'], 3, labels=False)\n",
    "data['quantile_ind_23_26_last_12_month_perf_max'] = pd.cut(data['ind_23_26_last_12_month_perf_max'], 3, labels=False)\n",
    "data['quantile_ind_23_26_last_6_month_perf_max'] = pd.cut(data['ind_23_26_last_6_month_perf_max'], 3, labels=False)\n",
    "data['quantile_ind_23_26_last_3_month_perf_max'] = pd.cut(data['ind_23_26_last_3_month_perf_max'], 3, labels=False)\n",
    "data['quantile_ind_last_season_perf'] = pd.cut(data['ind_last_season_perf'], 3, labels=False)"
   ]
  },
  {
   "cell_type": "code",
   "execution_count": 20,
   "id": "069ca47d",
   "metadata": {},
   "outputs": [],
   "source": [
    "data['quantile_ind_02_03_TK_last_12_month_perf_max'].fillna(3, inplace=True)\n",
    "data['quantile_ind_02_03_TK_last_6_month_perf_max'].fillna(3, inplace=True)\n",
    "data['quantile_ind_02_03_TK_last_3_month_perf_max'].fillna(3, inplace=True)\n",
    "data['quantile_ind_23_26_last_12_month_perf_max'].fillna(3, inplace=True)\n",
    "data['quantile_ind_23_26_last_6_month_perf_max'].fillna(3, inplace=True)\n",
    "data['quantile_ind_23_26_last_3_month_perf_max'].fillna(3, inplace=True)\n",
    "data['quantile_ind_last_season_perf'].fillna(3, inplace=True)"
   ]
  },
  {
   "cell_type": "code",
   "execution_count": null,
   "id": "438ef345",
   "metadata": {
    "scrolled": true
   },
   "outputs": [],
   "source": [
    "data['ind_is_last_season_K'].sort_values(ascending = False).unique()"
   ]
  },
  {
   "cell_type": "code",
   "execution_count": 23,
   "id": "5ba753ea",
   "metadata": {},
   "outputs": [],
   "source": [
    "zero_value_3 = data['ind_K_account_count_last_3_year'].min()\n",
    "data['ind_K_account_count_last_3_year'].fillna(zero_value_3, inplace=True)"
   ]
  },
  {
   "cell_type": "code",
   "execution_count": null,
   "id": "1d812090",
   "metadata": {},
   "outputs": [],
   "source": [
    "data[data['ind_K_account_count_last_3_year'].isna()][['ind_K_account_count_last_3_year', \n",
    "                                                        'ind_is_last_season_K',]].describe().round(4)"
   ]
  },
  {
   "cell_type": "code",
   "execution_count": null,
   "id": "ce3ab760",
   "metadata": {},
   "outputs": [],
   "source": [
    "data[['ind_23_26_last_3_month_perf_max' , 'ind_is_individual']]"
   ]
  },
  {
   "cell_type": "code",
   "execution_count": null,
   "id": "1a09e110",
   "metadata": {},
   "outputs": [],
   "source": [
    "data.iloc[:,60:75].isna().sum().sort_values(ascending=False)"
   ]
  },
  {
   "cell_type": "code",
   "execution_count": null,
   "id": "775e076f",
   "metadata": {},
   "outputs": [],
   "source": [
    "data.iloc[:,66:73].isna().sum()"
   ]
  },
  {
   "cell_type": "code",
   "execution_count": null,
   "id": "1888dbfc",
   "metadata": {},
   "outputs": [],
   "source": [
    "data.iloc[:,37:43].isna().sum()"
   ]
  },
  {
   "cell_type": "code",
   "execution_count": 29,
   "id": "b2b3e1e7",
   "metadata": {},
   "outputs": [],
   "source": [
    "# data.drop(columns=['ind_closed_tk_performance_last_6_months',    \n",
    "#                     'ind_closed_tk_performance_last_3_months',   \n",
    "#                     'ind_closed_23_performance_last_6_months',    \n",
    "#                     'ind_closed_23_performance_last_3_months'], axis=1, inplace=True)"
   ]
  },
  {
   "cell_type": "code",
   "execution_count": 30,
   "id": "6ff3dfaf",
   "metadata": {},
   "outputs": [],
   "source": [
    "data['quantile_ind_closed_cc_kredi_tutari_limiti'] = pd.cut(data['ind_closed_cc_kredi_tutari_limiti'], 3, labels=False)\n",
    "data['quantile_ind_closed_cc_kredi_tutari_limiti'].fillna(3, inplace=True)"
   ]
  },
  {
   "cell_type": "code",
   "execution_count": 31,
   "id": "abcfd2a8",
   "metadata": {},
   "outputs": [],
   "source": [
    "data['quantile_ind_closed_tk_kredi_tutari_limiti'] = pd.cut(data['ind_closed_tk_kredi_tutari_limiti'], 3, labels=False)\n",
    "data['quantile_ind_closed_tk_kredi_tutari_limiti'].fillna(3, inplace=True)"
   ]
  },
  {
   "cell_type": "code",
   "execution_count": 32,
   "id": "7cccd472",
   "metadata": {
    "scrolled": true
   },
   "outputs": [],
   "source": [
    "#data['ind_closed_cc_kredi_tutari_limiti'].hist(bins=40);"
   ]
  },
  {
   "cell_type": "code",
   "execution_count": 33,
   "id": "782c801e",
   "metadata": {},
   "outputs": [],
   "source": [
    "#sns.boxplot(x=data['ind_closed_cc_kredi_tutari_limiti']);"
   ]
  },
  {
   "cell_type": "code",
   "execution_count": 34,
   "id": "861dfc29",
   "metadata": {},
   "outputs": [],
   "source": [
    "#data['ind_closed_tk_kredi_tutari_limiti'].hist(bins=40);"
   ]
  },
  {
   "cell_type": "code",
   "execution_count": 35,
   "id": "47502eaa",
   "metadata": {
    "scrolled": true
   },
   "outputs": [],
   "source": [
    "#sns.boxplot(x=data['ind_closed_tk_kredi_tutari_limiti']);"
   ]
  },
  {
   "cell_type": "code",
   "execution_count": null,
   "id": "7020d264",
   "metadata": {},
   "outputs": [],
   "source": [
    "non_commercial_filter = data['com_is_commercial'] == data['com_is_commercial'].min()\n",
    "data[non_commercial_filter].head(1)"
   ]
  },
  {
   "cell_type": "code",
   "execution_count": null,
   "id": "3447355c",
   "metadata": {},
   "outputs": [],
   "source": [
    "data.loc[data['com_nakdirisk_account_count'] == data.loc[non_commercial_filter,'com_nakdirisk_account_count'].min(), \n",
    "                  ['com_nakdirisk_avg', 'com_nakdirisk_sum','com_max_nakdi_risk']].value_counts()"
   ]
  },
  {
   "cell_type": "code",
   "execution_count": 39,
   "id": "6a8e69ee",
   "metadata": {},
   "outputs": [],
   "source": [
    "data.loc[data['com_nakdirisk_avg'].isnull(),['com_nakdirisk_avg']] = data['com_nakdirisk_avg'].dropna().min()"
   ]
  },
  {
   "cell_type": "code",
   "execution_count": 40,
   "id": "c6e77889",
   "metadata": {},
   "outputs": [],
   "source": [
    "data.loc[data['com_max_nakdi_risk'].isnull(),['com_max_nakdi_risk']] = data['com_max_nakdi_risk'].dropna().min()"
   ]
  },
  {
   "cell_type": "code",
   "execution_count": 41,
   "id": "03820d9a",
   "metadata": {},
   "outputs": [],
   "source": [
    "data.loc[data['com_gayrinakdirisk_avg'].isnull(),['com_gayrinakdirisk_avg']] = data['com_gayrinakdirisk_avg'].dropna().min()"
   ]
  },
  {
   "cell_type": "code",
   "execution_count": 42,
   "id": "128905eb",
   "metadata": {},
   "outputs": [],
   "source": [
    "data.loc[data['com_max_gayrinakdi_risk'].isnull(),['com_max_gayrinakdi_risk']] = data['com_max_gayrinakdi_risk'].dropna().min()"
   ]
  },
  {
   "cell_type": "code",
   "execution_count": 43,
   "id": "a2f87f97",
   "metadata": {},
   "outputs": [],
   "source": [
    "data.loc[data['com_nakdilimit_avg'].isnull(),['com_nakdilimit_avg']] = data['com_nakdilimit_avg'].dropna().min()"
   ]
  },
  {
   "cell_type": "code",
   "execution_count": 44,
   "id": "516bd4ec",
   "metadata": {},
   "outputs": [],
   "source": [
    "data.loc[data['com_max_nakdi_limit'].isnull(),['com_max_nakdi_limit']] = data['com_max_nakdi_limit'].dropna().min()"
   ]
  },
  {
   "cell_type": "code",
   "execution_count": 45,
   "id": "eb26ecc9",
   "metadata": {},
   "outputs": [],
   "source": [
    "data.loc[data['com_gayrinakdilimit_avg'].isnull(),['com_gayrinakdilimit_avg']] = data['com_gayrinakdilimit_avg'].dropna().min()"
   ]
  },
  {
   "cell_type": "code",
   "execution_count": 46,
   "id": "0c86eeb7",
   "metadata": {},
   "outputs": [],
   "source": [
    "data.loc[data['com_max_gayrinakdi_limit'].isnull(),['com_max_gayrinakdi_limit']] = data['com_max_gayrinakdi_limit'].dropna().min()"
   ]
  },
  {
   "cell_type": "code",
   "execution_count": 47,
   "id": "edda28d7",
   "metadata": {},
   "outputs": [],
   "source": [
    "#data.drop(columns  = 'com_takip_risk_toplami_limit_orani', axis = 1, inplace = True)"
   ]
  },
  {
   "cell_type": "code",
   "execution_count": 48,
   "id": "7b968707",
   "metadata": {},
   "outputs": [],
   "source": [
    "data.loc[data['com_avg_diff_gayrinakdi_limit_risk'].isnull(),\n",
    "         ['com_avg_diff_gayrinakdi_limit_risk']] = data.loc[(data['com_gayrinakdilimit_account_count'] == data.loc[non_commercial_filter,'com_gayrinakdilimit_account_count'].min()) & \n",
    "                                                            (data['com_gayrinakdirisk_account_count'] == data.loc[non_commercial_filter,'com_gayrinakdirisk_account_count'].min()),\n",
    "                                                            ['com_avg_diff_gayrinakdi_limit_risk']].dropna().min()[0]"
   ]
  },
  {
   "cell_type": "code",
   "execution_count": null,
   "id": "9cc93084",
   "metadata": {},
   "outputs": [],
   "source": [
    "data.loc[(data['com_gayrinakdilimit_account_count'] == data.loc[non_commercial_filter,'com_gayrinakdilimit_account_count'].min()) & (data['com_gayrinakdirisk_account_count'] == data.loc[non_commercial_filter,'com_gayrinakdirisk_account_count'].min()), \n",
    "                 ['com_max_diff_gayrinakdi_limit_risk']].value_counts()"
   ]
  },
  {
   "cell_type": "code",
   "execution_count": 50,
   "id": "e26cb13a",
   "metadata": {},
   "outputs": [],
   "source": [
    "data.loc[data['com_max_diff_gayrinakdi_limit_risk'].isnull(), ['com_max_diff_gayrinakdi_limit_risk']] = data.loc[(data['com_gayrinakdilimit_account_count'] == data.loc[non_commercial_filter,'com_gayrinakdilimit_account_count'].min()) & (data['com_gayrinakdirisk_account_count'] == data.loc[non_commercial_filter,'com_gayrinakdirisk_account_count'].min()), \n",
    "                  ['com_max_diff_gayrinakdi_limit_risk']].dropna().min()[0]"
   ]
  },
  {
   "cell_type": "code",
   "execution_count": null,
   "id": "32119aad",
   "metadata": {},
   "outputs": [],
   "source": [
    "data.loc[(data['com_nakdilimit_account_count'] == data.loc[non_commercial_filter,'com_nakdilimit_account_count'].min()) & (data['com_nakdirisk_account_count'] == data.loc[non_commercial_filter,'com_nakdirisk_account_count'].min()),\n",
    "         ['com_max_diff_nakdi_limit_risk']].value_counts()"
   ]
  },
  {
   "cell_type": "code",
   "execution_count": 52,
   "id": "12f4e7ee",
   "metadata": {},
   "outputs": [],
   "source": [
    "data.loc[data['com_avg_diff_nakdi_limit_risk'].isnull(), ['com_avg_diff_nakdi_limit_risk']] = data.loc[(data['com_nakdilimit_account_count'] == data.loc[non_commercial_filter,'com_nakdilimit_account_count'].min()) & (data['com_nakdirisk_account_count'] == data.loc[non_commercial_filter,'com_nakdirisk_account_count'].min()), \n",
    "                 ['com_avg_diff_nakdi_limit_risk']].dropna().min()[0]"
   ]
  },
  {
   "cell_type": "code",
   "execution_count": null,
   "id": "b9301137",
   "metadata": {},
   "outputs": [],
   "source": [
    "data.loc[(data['com_nakdilimit_account_count'] == data.loc[non_commercial_filter,'com_nakdilimit_account_count'].min()) & (data['com_nakdirisk_account_count'] == data.loc[non_commercial_filter,'com_nakdirisk_account_count'].min()), \n",
    "                 ['com_max_diff_nakdi_limit_risk']].value_counts()"
   ]
  },
  {
   "cell_type": "code",
   "execution_count": 54,
   "id": "954f052c",
   "metadata": {},
   "outputs": [],
   "source": [
    "data.loc[data['com_max_diff_nakdi_limit_risk'].isnull(), ['com_max_diff_nakdi_limit_risk']] = data.loc[(data['com_nakdilimit_account_count'] == data.loc[non_commercial_filter,'com_nakdilimit_account_count'].min()) & (data['com_nakdirisk_account_count'] == data.loc[non_commercial_filter,'com_nakdirisk_account_count'].min()), \n",
    "                 ['com_max_diff_nakdi_limit_risk']].dropna().min()[0]"
   ]
  },
  {
   "cell_type": "code",
   "execution_count": null,
   "id": "20732df2",
   "metadata": {},
   "outputs": [],
   "source": [
    "print(data.loc[data['com_max_geciken_account_count'].isnull(), 'com_geciken_sum'].value_counts())\n",
    "print(data['com_geciken_sum'].min())"
   ]
  },
  {
   "cell_type": "code",
   "execution_count": null,
   "id": "fe3e54ea",
   "metadata": {},
   "outputs": [],
   "source": [
    "data.loc[data['com_geciken_sum'] == data['com_geciken_sum'].min(), 'com_max_geciken_account_count'].value_counts()"
   ]
  },
  {
   "cell_type": "code",
   "execution_count": 58,
   "id": "4a08af56",
   "metadata": {},
   "outputs": [],
   "source": [
    "data.loc[data['com_max_geciken_account_count'].isnull(),['com_max_geciken_account_count']] = data['com_max_geciken_account_count'].min()"
   ]
  },
  {
   "cell_type": "code",
   "execution_count": 59,
   "id": "0550e543",
   "metadata": {},
   "outputs": [],
   "source": [
    "\n",
    "data['quantile_com_n_days_since_last_commercial_credit'] = pd.cut(data['com_n_days_since_last_commercial_credit'], 3, labels=False)\n",
    "data['quantile_com_n_days_since_last_commercial_credit'].fillna(4, inplace=True)"
   ]
  },
  {
   "cell_type": "code",
   "execution_count": 61,
   "id": "43b76e02",
   "metadata": {},
   "outputs": [],
   "source": [
    "data['quantile_com_n_banks'] = pd.cut(data['com_n_banks'], 3, labels=False)\n",
    "data['quantile_com_n_banks'].fillna(0, inplace=True)"
   ]
  },
  {
   "cell_type": "code",
   "execution_count": 62,
   "id": "9f402e47",
   "metadata": {},
   "outputs": [],
   "source": [
    "categorical_columns = ['gender',                             \n",
    "                        'requested_farming_product_count',    \n",
    "                        'business_number',                    \n",
    "                        'is_rounded_price',                                         \n",
    "                        'farmer_is_paid_before',              \n",
    "                        'ind_is_individual',                  \n",
    "                        'ind_is_last_season_K',                             \n",
    "                        'com_com_last_1_year_k',              \n",
    "                        'com_is_commercial',                  \n",
    "                        'is_farming',\n",
    "                        'quantile_ind_last_3_months_0_count',              \n",
    "                        'quantile_ind_last_3_months_1_count',              \n",
    "                        'quantile_ind_last_3_months_2_count',              \n",
    "                        'quantile_ind_last_3_months_3_count',              \n",
    "                        'quantile_ind_last_3_months_4_count',              \n",
    "                        'quantile_ind_last_3_months_5_count',              \n",
    "                        'quantile_ind_last_3_months_6_count',             \n",
    "                        'quantile_ind_last_6_months_0_count',              \n",
    "                        'quantile_ind_last_6_months_1_count',              \n",
    "                        'quantile_ind_last_6_months_2_count',              \n",
    "                        'quantile_ind_last_6_months_3_count',              \n",
    "                        'quantile_ind_last_6_months_4_count',             \n",
    "                        'quantile_ind_last_6_months_5_count',              \n",
    "                        'quantile_ind_last_6_months_6_count',              \n",
    "                        'quantile_ind_02_03_TK_last_12_month_perf_max',    \n",
    "                        'quantile_ind_02_03_TK_last_6_month_perf_max',     \n",
    "                        'quantile_ind_02_03_TK_last_3_month_perf_max',     \n",
    "                        'quantile_ind_23_26_last_12_month_perf_max',       \n",
    "                        'quantile_ind_23_26_last_6_month_perf_max',        \n",
    "                        'quantile_ind_23_26_last_3_month_perf_max',        \n",
    "                        'quantile_ind_last_season_perf',                   \n",
    "                        'quantile_ind_closed_cc_kredi_tutari_limiti',      \n",
    "                        'quantile_com_n_banks']"
   ]
  },
  {
   "cell_type": "code",
   "execution_count": 63,
   "id": "978b5da7",
   "metadata": {},
   "outputs": [],
   "source": [
    "data.dropna(axis=1, how='any', inplace=True)"
   ]
  },
  {
   "cell_type": "code",
   "execution_count": 64,
   "id": "ea0d43b6",
   "metadata": {},
   "outputs": [],
   "source": [
    "data.drop(axis = 1, columns = ['crop_id_2.0',                        \n",
    "                        'crop_id_3.0',                     \n",
    "                        'crop_id_9.0',                        \n",
    "                        'crop_id_31.0' ] , inplace = True)"
   ]
  },
  {
   "cell_type": "code",
   "execution_count": 65,
   "id": "31e81ce2",
   "metadata": {},
   "outputs": [],
   "source": [
    "categorical_columns = ['gender', 'is_rounded_price',                               \n",
    "                        'business_number',                                                             \n",
    "                        'farmer_is_paid_before',              \n",
    "                        'ind_is_individual',                  \n",
    "                        'ind_is_last_season_K',                             \n",
    "                        'com_com_last_1_year_k',              \n",
    "                        'com_is_commercial',                  \n",
    "                        'is_farming',\n",
    "                        'quantile_ind_last_3_months_0_count',              \n",
    "                        'quantile_ind_last_3_months_1_count',              \n",
    "                        'quantile_ind_last_3_months_2_count',              \n",
    "                        'quantile_ind_last_3_months_3_count',              \n",
    "                        'quantile_ind_last_3_months_4_count',              \n",
    "                        'quantile_ind_last_3_months_5_count',              \n",
    "                        'quantile_ind_last_3_months_6_count',             \n",
    "                        'quantile_ind_last_6_months_0_count',              \n",
    "                        'quantile_ind_last_6_months_1_count',              \n",
    "                        'quantile_ind_last_6_months_2_count',              \n",
    "                        'quantile_ind_last_6_months_3_count',              \n",
    "                        'quantile_ind_last_6_months_4_count',             \n",
    "                        'quantile_ind_last_6_months_5_count',              \n",
    "                        'quantile_ind_last_6_months_6_count',              \n",
    "                        'quantile_ind_02_03_TK_last_12_month_perf_max',    \n",
    "                        'quantile_ind_02_03_TK_last_6_month_perf_max',     \n",
    "                        'quantile_ind_02_03_TK_last_3_month_perf_max',     \n",
    "                        'quantile_ind_23_26_last_12_month_perf_max',       \n",
    "                        'quantile_ind_23_26_last_6_month_perf_max',        \n",
    "                        'quantile_ind_23_26_last_3_month_perf_max',        \n",
    "                        'quantile_ind_last_season_perf',                   \n",
    "                        'quantile_ind_closed_cc_kredi_tutari_limiti',      \n",
    "                        'quantile_com_n_banks']"
   ]
  },
  {
   "cell_type": "code",
   "execution_count": 66,
   "id": "422e5842",
   "metadata": {},
   "outputs": [],
   "source": [
    "data[categorical_columns] = data[categorical_columns].astype('category')"
   ]
  },
  {
   "cell_type": "code",
   "execution_count": null,
   "id": "b23fec31",
   "metadata": {},
   "outputs": [],
   "source": [
    "data.shape"
   ]
  },
  {
   "cell_type": "code",
   "execution_count": null,
   "id": "c7de0046",
   "metadata": {},
   "outputs": [],
   "source": [
    "data.info()"
   ]
  },
  {
   "cell_type": "code",
   "execution_count": 69,
   "id": "0f6fc72a",
   "metadata": {},
   "outputs": [],
   "source": [
    "mahsul_data = pd.read_excel('mahsul_data.xlsx')\n",
    "interest_data = pd.read_excel('interest_data.xlsx')\n",
    "urun_data = pd.read_excel('urun_data.xlsx')\n"
   ]
  },
  {
   "cell_type": "code",
   "execution_count": 70,
   "id": "a110e019",
   "metadata": {},
   "outputs": [],
   "source": [
    "interest_data = interest_data.dropna()\n",
    "urun_data = urun_data.rename(columns={\"urun\":\"product\"})\n",
    "mahsul_data = mahsul_data.rename(columns={\"urun\":\"mahsul\"})"
   ]
  },
  {
   "cell_type": "code",
   "execution_count": 71,
   "id": "0b0d8cab",
   "metadata": {},
   "outputs": [],
   "source": [
    "interest_data = interest_data.dropna()\n",
    "urun_data = urun_data.rename(columns={\"urun\":\"product\"})\n",
    "mahsul_data = mahsul_data.rename(columns={\"urun\":\"mahsul\"})"
   ]
  },
  {
   "cell_type": "code",
   "execution_count": null,
   "id": "b5a5b867",
   "metadata": {},
   "outputs": [],
   "source": [
    "mahsul_data.info()"
   ]
  },
  {
   "cell_type": "code",
   "execution_count": null,
   "id": "ca4d0307",
   "metadata": {},
   "outputs": [],
   "source": [
    "mahsul_data.nunique()"
   ]
  },
  {
   "cell_type": "code",
   "execution_count": null,
   "id": "b7cd3938",
   "metadata": {},
   "outputs": [],
   "source": [
    "mahsul_data.isna().sum()"
   ]
  },
  {
   "cell_type": "code",
   "execution_count": null,
   "id": "d72eb993",
   "metadata": {},
   "outputs": [],
   "source": [
    "urun_product = pd.merge(urun_data,mahsul_data,on=[\"event_id\",\"individual_id\"])\n",
    "mahsul_na = urun_product[urun_product[\"mahsul\"].isna()]\n",
    "mahsul_na.nunique()"
   ]
  },
  {
   "cell_type": "code",
   "execution_count": 76,
   "id": "7aa15ce1",
   "metadata": {},
   "outputs": [],
   "source": [
    "mahsul_na_unique = mahsul_na[\"product\"].unique()"
   ]
  },
  {
   "cell_type": "code",
   "execution_count": null,
   "id": "9082f9ec",
   "metadata": {},
   "outputs": [],
   "source": [
    "mahsul_na_yem = mahsul_na_unique[np.array([re.search(\"yem\",x,re.IGNORECASE) for x in mahsul_na_unique]) != None]\n",
    "len(mahsul_na_yem)"
   ]
  },
  {
   "cell_type": "code",
   "execution_count": 78,
   "id": "2a0f24d9",
   "metadata": {},
   "outputs": [],
   "source": [
    "pd.DataFrame(mahsul_na_yem).to_excel(\"mahsul_yem.xlsx\")\n",
    "mahsul_na_type = pd.DataFrame(mahsul_na_unique[~np.isin(mahsul_na_unique,mahsul_na_yem)])"
   ]
  },
  {
   "cell_type": "code",
   "execution_count": null,
   "id": "deb49982",
   "metadata": {},
   "outputs": [],
   "source": [
    "mahsul_na_type = pd.read_excel(\"mahsul_na_type.xlsx\")\n",
    "mahsul_na_type"
   ]
  },
  {
   "cell_type": "code",
   "execution_count": 80,
   "id": "af0fe766",
   "metadata": {},
   "outputs": [],
   "source": [
    "hayvancılık_unique = mahsul_na_type.loc[mahsul_na_type[\"mahsul\"]==\"Hayvancılık\",\"product\"].unique()\n",
    "hayvancılık_inek = hayvancılık_unique[(np.array([re.search(\"buzağı\",x,re.IGNORECASE) for x in hayvancılık_unique]) != None) | \n",
    "                   (np.array([re.search(\"büyükbaş\",x,re.IGNORECASE) for x in hayvancılık_unique]) != None)]\n",
    "hayvancılık_kuzu = hayvancılık_unique[(np.array([re.search(\"kuzu\",x,re.IGNORECASE) for x in hayvancılık_unique]) != None)]"
   ]
  },
  {
   "cell_type": "code",
   "execution_count": null,
   "id": "c82d6600",
   "metadata": {},
   "outputs": [],
   "source": [
    "mahsul_na_type.loc[mahsul_na_type[\"product\"].isin(hayvancılık_inek),\"mahsul\"] = \"Hayvancılık/Büyükbaş\"\n",
    "mahsul_na_type.loc[mahsul_na_type[\"product\"].isin(hayvancılık_kuzu),\"mahsul\"] = \"Hayvancılık/Küçükbaş\"\n",
    "mahsul_na_type.loc[mahsul_na_type[\"mahsul\"]==\"Hayvancılık\",\"mahsul\"] = \"Hayvancılık/Others\"\n",
    "mahsul_na_type"
   ]
  },
  {
   "cell_type": "code",
   "execution_count": 82,
   "id": "55483e57",
   "metadata": {},
   "outputs": [],
   "source": [
    "unique_product = urun_product[\"product\"].unique()"
   ]
  },
  {
   "cell_type": "code",
   "execution_count": null,
   "id": "f31d698e",
   "metadata": {},
   "outputs": [],
   "source": [
    "tohum_names = unique_product[np.array([re.search(\"tohum\",x,re.IGNORECASE) for x in unique_product]) != None]\n",
    "other_product = unique_product[~np.isin(unique_product,tohum_names)]\n",
    "gubre_names = other_product[np.array([re.search(\"gübre\",x,re.IGNORECASE) for x in other_product]) != None]\n",
    "gubre_names = np.append(gubre_names,[\"CAN 26\",\"DAP 18-46-0\"])\n",
    "other_product = other_product[~np.isin(other_product,gubre_names)]\n",
    "ure_names = other_product[np.array([re.search(\"üre\",x,re.IGNORECASE) for x in other_product]) != None]\n",
    "other_product = other_product[~np.isin(other_product,ure_names)]\n",
    "kuspe_names = other_product[np.array([re.search(\"küspe\",x,re.IGNORECASE) for x in other_product]) != None]\n",
    "other_product = other_product[~np.isin(other_product,kuspe_names)]\n",
    "yem_names = other_product[np.array([re.search(\"yem\",x,re.IGNORECASE) for x in other_product]) != None]\n",
    "yem_names = np.append(yem_names,[\"14 Protein Besi Geliştirme\"])\n",
    "other_product = other_product[~np.isin(other_product,yem_names)]\n",
    "fide_names = other_product[np.array([re.search(\"fide\",x,re.IGNORECASE) for x in other_product]) != None]\n",
    "other_product = other_product[~np.isin(other_product,fide_names)]\n",
    "pelet_names = other_product[np.array([re.search(\"pelet\",x,re.IGNORECASE) for x in other_product]) != None]\n",
    "other_product = other_product[~np.isin(other_product,pelet_names)]\n",
    "kepek_names = other_product[np.array([re.search(\"kepek\",x,re.IGNORECASE) for x in other_product]) != None]\n",
    "other_product = other_product[~np.isin(other_product,kepek_names)]\n",
    "azot_names = other_product[np.array([re.search(\"azot\",x,re.IGNORECASE) for x in other_product]) != None]\n",
    "other_product = other_product[~np.isin(other_product,azot_names)]\n",
    "sulfat_names = other_product[np.array([re.search(\"sülfat\",x,re.IGNORECASE) for x in other_product]) != None]\n",
    "other_product = other_product[~np.isin(other_product,sulfat_names)]\n",
    "yirmi_names = other_product[np.array([re.search(\"20\",x,re.IGNORECASE) for x in other_product]) != None]\n",
    "other_product = other_product[~np.isin(other_product,yirmi_names)]\n",
    "on_names = other_product[np.array([re.search(\"10\",x,re.IGNORECASE) for x in other_product]) != None]\n",
    "other_product = other_product[~np.isin(other_product,on_names)]\n",
    "onbes_names = other_product[np.array([re.search(\"15\",x,re.IGNORECASE) for x in other_product]) != None]\n",
    "other_product = other_product[~np.isin(other_product,onbes_names)]\n",
    "boru_names = other_product[np.array([re.search(\"boru\",x,re.IGNORECASE) for x in other_product]) != None]\n",
    "other_product = other_product[~np.isin(other_product,boru_names)]\n",
    "yansıtma_names = other_product[np.array([re.search(\"yansıtma\",x,re.IGNORECASE) for x in other_product]) != None]\n",
    "other_product = other_product[~np.isin(other_product,yansıtma_names)]\n",
    "motor_names = other_product[np.array([re.search(\"motor\",x,re.IGNORECASE) for x in other_product]) != None]\n",
    "other_product = other_product[~np.isin(other_product,motor_names)]\n",
    "makine_names = other_product[np.array([re.search(\"makine\",x,re.IGNORECASE) for x in other_product]) != None]\n",
    "other_product = other_product[~np.isin(other_product,makine_names)]\n",
    "urun_product[\"prod_cat\"] = \"Other\"\n",
    "urun_product\n"
   ]
  },
  {
   "cell_type": "code",
   "execution_count": 84,
   "id": "ab200159",
   "metadata": {},
   "outputs": [],
   "source": [
    "urun_product.loc[urun_product[\"product\"].isin(tohum_names),\"prod_cat\"] = \"Tohum\"\n",
    "urun_product.loc[urun_product[\"product\"].isin(gubre_names),\"prod_cat\"] = \"Gubre\"\n",
    "urun_product.loc[urun_product[\"product\"].isin(ure_names),\"prod_cat\"] = \"Gubre\"\n",
    "urun_product.loc[urun_product[\"product\"].isin(kuspe_names),\"prod_cat\"] = \"Yem\"\n",
    "urun_product.loc[urun_product[\"product\"].isin(yem_names),\"prod_cat\"] = \"Yem\"\n",
    "urun_product.loc[urun_product[\"product\"].isin(fide_names),\"prod_cat\"] = \"Tohum\"\n",
    "urun_product.loc[urun_product[\"product\"].isin(pelet_names),\"prod_cat\"] = \"Yem\"\n",
    "urun_product.loc[urun_product[\"product\"].isin(kepek_names),\"prod_cat\"] = \"Yem\"\n",
    "urun_product.loc[urun_product[\"product\"].isin(azot_names),\"prod_cat\"] = \"Gubre\"\n",
    "urun_product.loc[urun_product[\"product\"].isin(sulfat_names),\"prod_cat\"] = \"Gubre\"\n",
    "urun_product.loc[urun_product[\"product\"].isin(yirmi_names),\"prod_cat\"] = \"Gubre\"\n",
    "urun_product.loc[urun_product[\"product\"].isin(on_names),\"prod_cat\"] = \"Gubre\"\n",
    "urun_product.loc[urun_product[\"product\"].isin(onbes_names),\"prod_cat\"] = \"Gubre\"\n",
    "urun_product.loc[urun_product[\"product\"].isin(boru_names),\"prod_cat\"] = \"Boru\"\n",
    "urun_product.loc[urun_product[\"product\"].isin(yansıtma_names),\"prod_cat\"] = \"Yakit\"\n",
    "urun_product.loc[urun_product[\"product\"].isin(motor_names),\"prod_cat\"] = \"Makine\"\n",
    "urun_product.loc[urun_product[\"product\"].isin(makine_names),\"prod_cat\"] = \"Makine\""
   ]
  },
  {
   "cell_type": "code",
   "execution_count": null,
   "id": "3ed6931c",
   "metadata": {},
   "outputs": [],
   "source": [
    "urun_product[\"prod_cat\"].value_counts()"
   ]
  },
  {
   "cell_type": "code",
   "execution_count": 86,
   "id": "7a3398f6",
   "metadata": {},
   "outputs": [],
   "source": [
    "#urun_product.to_excel(\"urun_product.xlsx\")\n",
    "dates = pd.read_excel('tarihler.xlsx')"
   ]
  },
  {
   "cell_type": "code",
   "execution_count": 87,
   "id": "78aa8bfd",
   "metadata": {},
   "outputs": [],
   "source": [
    "tk_evds = pd.read_excel(\"EVDS.xlsx\")\n",
    "tk_evds[\"Tarih\"] = pd.to_datetime(tk_evds[\"Tarih\"],format=\"%d-%m-%Y\")\n",
    "cross_pd = pd.DataFrame(pd.date_range(tk_evds[\"Tarih\"].min(),dates[\"basvuru_tarihi\"].max()),columns=[\"Tarih\"])\n",
    "tmp_pd = pd.merge(cross_pd,tk_evds,on=[\"Tarih\"],how=\"left\")\n",
    "tkevds = tmp_pd.fillna(method=\"ffill\")"
   ]
  },
  {
   "cell_type": "code",
   "execution_count": 88,
   "id": "64e37ed6",
   "metadata": {},
   "outputs": [],
   "source": [
    "\n",
    "tlref_data = pd.read_csv(\"tlref.csv\",sep=\";\",encoding='utf_16')\n",
    "tlref_data = tlref_data.iloc[0:823,:]\n",
    "tlref_data[\"TARIH/DATE\"] = pd.to_datetime(tlref_data[\"TARIH/DATE\"])\n",
    "tlref_data = tlref_data[(tlref_data[\"TARIH/DATE\"] >= dates[\"basvuru_tarihi\"].min()) & (tlref_data[\"TARIH/DATE\"] <= dates[\"basvuru_tarihi\"].max())]\n",
    "tlref_data = tlref_data[[\"TARIH/DATE\",\"DEGER/VALUE\"]].sort_values(\"TARIH/DATE\")\n",
    "tlref_data.columns = [\"date\",\"tlref\"]\n",
    "cross_pd = pd.DataFrame(pd.date_range(dates[\"basvuru_tarihi\"].min(),dates[\"basvuru_tarihi\"].max()),columns=[\"date\"])\n",
    "tmp_pd = pd.merge(cross_pd,tlref_data,on=[\"date\"],how=\"left\")\n",
    "tlref_data = tmp_pd.fillna(method=\"ffill\")"
   ]
  },
  {
   "cell_type": "code",
   "execution_count": 89,
   "id": "cb6bc232",
   "metadata": {},
   "outputs": [],
   "source": [
    "data = pd.merge(data,interest_data,on=[\"event_id\"])\n",
    "data_pd = pd.merge(dates,data,on=\"event_id\")\n",
    "data_pd2 = pd.merge(data_pd,tlref_data,left_on=\"basvuru_tarihi\",right_on=\"date\").drop(\"date\",axis=1)\n",
    "data_df = pd.merge(data_pd2,tkevds,left_on=\"basvuru_tarihi\",right_on=\"Tarih\").drop(\"Tarih\",axis=1)"
   ]
  },
  {
   "cell_type": "code",
   "execution_count": null,
   "id": "2322313c",
   "metadata": {},
   "outputs": [],
   "source": [
    "data_df"
   ]
  },
  {
   "cell_type": "code",
   "execution_count": 91,
   "id": "2579c61b",
   "metadata": {},
   "outputs": [],
   "source": [
    "data = data_df.rename({\"TP KTF10\":\"ihtiyac_rate\"},axis=1)\n",
    "data = data.drop([\"tlref\",\"TP KTF17\",\"TP KTF18\",\"TP KTFTUK\"],axis=1)"
   ]
  },
  {
   "cell_type": "code",
   "execution_count": null,
   "id": "b37c50b5",
   "metadata": {},
   "outputs": [],
   "source": [
    "data[\"vade_ay\"] = data[\"vade_tarihi\"].dt.to_period(\"M\").astype(int) - data[\"basvuru_tarihi\"].dt.to_period(\"M\").astype(int)"
   ]
  },
  {
   "cell_type": "code",
   "execution_count": 93,
   "id": "40c84741",
   "metadata": {},
   "outputs": [],
   "source": [
    "data[\"yearly_rate_ref\"] = (data[\"yearly_rate\"]-data[\"ihtiyac_rate\"])/data[\"ihtiyac_rate\"]\n",
    "data[\"vade_sonu_ref\"] = data[\"yearly_rate_ref\"]*(data[\"vade_ay\"]/12)\n",
    "data[\"vade_sonu\"] = data[\"yearly_rate\"]*(data[\"vade_ay\"]/12)"
   ]
  },
  {
   "cell_type": "code",
   "execution_count": 94,
   "id": "61765ead",
   "metadata": {},
   "outputs": [],
   "source": [
    "urun_product = pd.get_dummies(urun_product,columns=[\"prod_cat\",\"mahsul\"])"
   ]
  },
  {
   "cell_type": "code",
   "execution_count": 95,
   "id": "3a3d76b2",
   "metadata": {},
   "outputs": [],
   "source": [
    "urun_product = urun_product.groupby([\"event_id\",\"individual_id\"]).max()"
   ]
  },
  {
   "cell_type": "code",
   "execution_count": 96,
   "id": "413e0b34",
   "metadata": {},
   "outputs": [],
   "source": [
    "data = data.merge(urun_product,how=\"left\",on=\"event_id\")"
   ]
  },
  {
   "cell_type": "code",
   "execution_count": 97,
   "id": "67b8fbf2",
   "metadata": {},
   "outputs": [],
   "source": [
    "data.columns = data.columns.str.lower()\n",
    "data.columns = data.columns.str.replace('-', '_', regex = True)\n",
    "data.columns = data.columns.str.replace('.', '_', regex = True)\n",
    "data.columns = data.columns.str.replace(' ', '_')\n",
    "data.columns = data.columns.str.replace('ç','c')\n",
    "data.columns = data.columns.str.replace('ğ','g')\n",
    "data.columns = data.columns.str.replace('ı','i')\n",
    "data.columns = data.columns.str.replace('ö','o')\n",
    "data.columns = data.columns.str.replace('ş','s')\n",
    "data.columns = data.columns.str.replace('ü','u')\n"
   ]
  },
  {
   "cell_type": "code",
   "execution_count": 98,
   "id": "ea47b6f4",
   "metadata": {},
   "outputs": [],
   "source": [
    "data[\"month\"] = pd.DatetimeIndex(data[\"basvuru_tarihi\"]).month\n"
   ]
  },
  {
   "cell_type": "code",
   "execution_count": 99,
   "id": "457ec7c5",
   "metadata": {},
   "outputs": [],
   "source": [
    "data_train = data[data[\"basvuru_tarihi\"]<='2022-02-28']\n",
    "data_test = data[data[\"basvuru_tarihi\"]>'2022-02-28']"
   ]
  },
  {
   "cell_type": "code",
   "execution_count": null,
   "id": "c2c6a748",
   "metadata": {},
   "outputs": [],
   "source": [
    "data_train"
   ]
  },
  {
   "cell_type": "code",
   "execution_count": null,
   "id": "5affc5f6",
   "metadata": {},
   "outputs": [],
   "source": [
    "data.isnull().sum().sort_values(ascending = False)"
   ]
  },
  {
   "cell_type": "code",
   "execution_count": 102,
   "id": "6a524fc5",
   "metadata": {},
   "outputs": [],
   "source": [
    "cols_drop = ['event_id',\n",
    "'basvuru_tarihi',\n",
    "'vade_tarihi',\n",
    "'com_nakdirisk_avg',\n",
    "'com_gayrinakdirisk_avg',\n",
    "'com_nakdilimit_avg',\n",
    "'com_gayrinakdilimit_avg',\n",
    "'com_ratio_geciken_all',\n",
    "'com_avg_diff_gayrinakdi_limit_risk',\n",
    "'com_avg_diff_nakdi_limit_risk',\n",
    "'com_max_diff_nakdi_limit_risk',\n",
    "'com_max_gayrinakdi_limit',\n",
    "'com_max_gayrinakdi_risk',\n",
    "'com_max_nakdi_limit',\n",
    "'com_max_nakdi_risk',\n",
    "'com_max_geciken_account_count',\n",
    "'ihtiyac_rate',\n",
    "'vade_ay',\n",
    "'vade_sonu_ref',\n",
    "'vade_sonu',\n",
    "'individual_id_y',\n",
    "'individual_id_x',\n",
    "\"is_rounded_price\",\n",
    "\"yearly_rate\",\n",
    "\"product\"\n",
    "]"
   ]
  },
  {
   "cell_type": "code",
   "execution_count": 103,
   "id": "fa26af05",
   "metadata": {},
   "outputs": [],
   "source": [
    "data_train = data_train.drop(cols_drop,axis=1)\n",
    "\n",
    "data_test = data_test.drop(cols_drop,axis=1)\n",
    "\n"
   ]
  },
  {
   "cell_type": "code",
   "execution_count": null,
   "id": "7861fd88",
   "metadata": {},
   "outputs": [],
   "source": [
    "data_train.info(verbose=True,show_counts=True)"
   ]
  },
  {
   "cell_type": "code",
   "execution_count": null,
   "id": "9a96b43a",
   "metadata": {},
   "outputs": [],
   "source": [
    "for i in data_train.columns:\n",
    "    print(\"'\" + i + \"'\" + ',')"
   ]
  },
  {
   "cell_type": "raw",
   "id": "ee6b19fa",
   "metadata": {},
   "source": [
    "data_train = pd.get_dummies(data_train,columns=[\"quantile_ind_last_6_months_0_count\",\"quantile_ind_last_6_months_1_count\",\n",
    "                                                \"quantile_ind_last_6_months_2_count\",\"quantile_ind_last_6_months_3_count\",\n",
    "                                                \"quantile_ind_last_6_months_4_count\",\"quantile_ind_last_6_months_5_count\",\n",
    "                                                \"quantile_ind_last_6_months_6_count\",\"quantile_ind_02_03_TK_last_12_month_perf_max\",\n",
    "                                                \"quantile_ind_23_26_last_12_month_perf_max\",\"quantile_ind_last_season_perf\",\n",
    "                                                \"quantile_ind_closed_cc_kredi_tutari_limiti\",\"quantile_ind_closed_tk_kredi_tutari_limiti\",\n",
    "                                                \"quantile_com_n_days_since_last_commercial_credit\",\"quantile_com_n_banks\",\"month\"])"
   ]
  },
  {
   "cell_type": "raw",
   "id": "da2ec287",
   "metadata": {},
   "source": [
    "data_test = pd.get_dummies(data_test,columns=[\"quantile_ind_last_6_months_0_count\",\"quantile_ind_last_6_months_1_count\",\n",
    "                                                \"quantile_ind_last_6_months_2_count\",\"quantile_ind_last_6_months_3_count\",\n",
    "                                                \"quantile_ind_last_6_months_4_count\",\"quantile_ind_last_6_months_5_count\",\n",
    "                                                \"quantile_ind_last_6_months_6_count\",\"quantile_ind_02_03_TK_last_12_month_perf_max\",\n",
    "                                                \"quantile_ind_23_26_last_12_month_perf_max\",\"quantile_ind_last_season_perf\",\n",
    "                                                \"quantile_ind_closed_cc_kredi_tutari_limiti\",\"quantile_ind_closed_tk_kredi_tutari_limiti\",\n",
    "                                                \"quantile_com_n_days_since_last_commercial_credit\",\"quantile_com_n_banks\",\"month\"])"
   ]
  },
  {
   "cell_type": "code",
   "execution_count": null,
   "id": "2148d22a",
   "metadata": {},
   "outputs": [],
   "source": [
    "data_train.shape"
   ]
  },
  {
   "cell_type": "code",
   "execution_count": null,
   "id": "418a6f7c",
   "metadata": {},
   "outputs": [],
   "source": [
    "data_test.shape"
   ]
  },
  {
   "cell_type": "code",
   "execution_count": null,
   "id": "a172bda3",
   "metadata": {},
   "outputs": [],
   "source": [
    "data.shape"
   ]
  },
  {
   "cell_type": "code",
   "execution_count": null,
   "id": "91e8ccf8",
   "metadata": {},
   "outputs": [],
   "source": [
    "data.head()"
   ]
  },
  {
   "cell_type": "code",
   "execution_count": 112,
   "id": "9433df80",
   "metadata": {},
   "outputs": [],
   "source": [
    "data_train.to_csv('/Users/seyma/Desktop/Data/data_train.csv', index_label = False)\n",
    "data_test.to_csv('/Users/seyma/Desktop/Data/data_test.csv', index_label = False)\n",
    "data.to_csv('/Users/seyma/Desktop/Data/data.csv', index_label = False)"
   ]
  }
 ],
 "metadata": {
  "kernelspec": {
   "display_name": "Python 3 (ipykernel)",
   "language": "python",
   "name": "python3"
  },
  "language_info": {
   "codemirror_mode": {
    "name": "ipython",
    "version": 3
   },
   "file_extension": ".py",
   "mimetype": "text/x-python",
   "name": "python",
   "nbconvert_exporter": "python",
   "pygments_lexer": "ipython3",
   "version": "3.9.7"
  }
 },
 "nbformat": 4,
 "nbformat_minor": 5
}
